{
 "cells": [
  {
   "cell_type": "code",
   "execution_count": 2,
   "metadata": {},
   "outputs": [],
   "source": [
    "import numpy as np\n",
    "import os\n",
    "import pandas as pd\n",
    "import matplotlib.pyplot as plt\n",
    "import torch\n",
    "from tqdm import tqdm\n",
    "import json\n",
    "from collections import OrderedDict\n",
    "import joblib\n",
    "import utils.models as model_utils"
   ]
  },
  {
   "attachments": {},
   "cell_type": "markdown",
   "metadata": {},
   "source": [
    "# Preparation"
   ]
  },
  {
   "cell_type": "code",
   "execution_count": 4,
   "metadata": {},
   "outputs": [],
   "source": [
    "MODEL_FILEDIR = '/scratch/data/TrojAI/rl-lavaworld-jul2023-train/models/'\n",
    "# MODEL_NUM = 117\n",
    "MODEL_SUMMARY_FILEPATH = '/scratch/data/TrojAI/rl-lavaworld-jul2023-train/METADATA.csv'\n",
    "# OUTPUT_FILEDIR = '/scratch/jialin/rl-lavaworld-jul2023-train/weight_analysis/extracted_source/'\n",
    "METADATA = pd.read_csv(MODEL_SUMMARY_FILEPATH)\n",
    "\n",
    "def num_to_model_id(num):\n",
    "    return 'id-' + str(100000000+num)[1:]\n",
    "\n",
    "def load_model(model_num):\n",
    "    model_id = num_to_model_id(model_num)\n",
    "    model_filepath = os.path.join(MODEL_FILEDIR, model_id, 'model.pt')\n",
    "    # model_info_fp = model_filepath + '.stats.json'\n",
    "    model = torch.load(model_filepath)\n",
    "    # with open(model_info_fp, 'r') as f:\n",
    "    #     model_info = json.load(f)\n",
    "    return model"
   ]
  },
  {
   "cell_type": "code",
   "execution_count": 7,
   "metadata": {},
   "outputs": [],
   "source": [
    "METADATA['poisoned'] = METADATA['ground_truth'] == 'triggered'"
   ]
  },
  {
   "cell_type": "code",
   "execution_count": 8,
   "metadata": {},
   "outputs": [
    {
     "data": {
      "text/html": [
       "<div>\n",
       "<style scoped>\n",
       "    .dataframe tbody tr th:only-of-type {\n",
       "        vertical-align: middle;\n",
       "    }\n",
       "\n",
       "    .dataframe tbody tr th {\n",
       "        vertical-align: top;\n",
       "    }\n",
       "\n",
       "    .dataframe thead th {\n",
       "        text-align: right;\n",
       "    }\n",
       "</style>\n",
       "<table border=\"1\" class=\"dataframe\">\n",
       "  <thead>\n",
       "    <tr style=\"text-align: right;\">\n",
       "      <th></th>\n",
       "      <th>model_name</th>\n",
       "      <th>arch</th>\n",
       "      <th>poison</th>\n",
       "      <th>K1</th>\n",
       "      <th>ground_truth</th>\n",
       "      <th>clean_success</th>\n",
       "      <th>poison_success</th>\n",
       "      <th>poisoned</th>\n",
       "    </tr>\n",
       "  </thead>\n",
       "  <tbody>\n",
       "    <tr>\n",
       "      <th>0</th>\n",
       "      <td>id-00000000</td>\n",
       "      <td>BasicFCModel</td>\n",
       "      <td>NaN</td>\n",
       "      <td>NaN</td>\n",
       "      <td>clean</td>\n",
       "      <td>0.96</td>\n",
       "      <td>NaN</td>\n",
       "      <td>False</td>\n",
       "    </tr>\n",
       "    <tr>\n",
       "      <th>1</th>\n",
       "      <td>id-00000001</td>\n",
       "      <td>BasicFCModel</td>\n",
       "      <td>NaN</td>\n",
       "      <td>NaN</td>\n",
       "      <td>clean</td>\n",
       "      <td>0.98</td>\n",
       "      <td>NaN</td>\n",
       "      <td>False</td>\n",
       "    </tr>\n",
       "    <tr>\n",
       "      <th>2</th>\n",
       "      <td>id-00000002</td>\n",
       "      <td>BasicFCModel</td>\n",
       "      <td>NaN</td>\n",
       "      <td>NaN</td>\n",
       "      <td>clean</td>\n",
       "      <td>0.98</td>\n",
       "      <td>NaN</td>\n",
       "      <td>False</td>\n",
       "    </tr>\n",
       "    <tr>\n",
       "      <th>3</th>\n",
       "      <td>id-00000003</td>\n",
       "      <td>BasicFCModel</td>\n",
       "      <td>NaN</td>\n",
       "      <td>NaN</td>\n",
       "      <td>clean</td>\n",
       "      <td>0.94</td>\n",
       "      <td>NaN</td>\n",
       "      <td>False</td>\n",
       "    </tr>\n",
       "    <tr>\n",
       "      <th>4</th>\n",
       "      <td>id-00000004</td>\n",
       "      <td>BasicFCModel</td>\n",
       "      <td>NaN</td>\n",
       "      <td>NaN</td>\n",
       "      <td>clean</td>\n",
       "      <td>0.98</td>\n",
       "      <td>NaN</td>\n",
       "      <td>False</td>\n",
       "    </tr>\n",
       "  </tbody>\n",
       "</table>\n",
       "</div>"
      ],
      "text/plain": [
       "    model_name          arch poison  K1 ground_truth  clean_success  \\\n",
       "0  id-00000000  BasicFCModel    NaN NaN        clean           0.96   \n",
       "1  id-00000001  BasicFCModel    NaN NaN        clean           0.98   \n",
       "2  id-00000002  BasicFCModel    NaN NaN        clean           0.98   \n",
       "3  id-00000003  BasicFCModel    NaN NaN        clean           0.94   \n",
       "4  id-00000004  BasicFCModel    NaN NaN        clean           0.98   \n",
       "\n",
       "   poison_success  poisoned  \n",
       "0             NaN     False  \n",
       "1             NaN     False  \n",
       "2             NaN     False  \n",
       "3             NaN     False  \n",
       "4             NaN     False  "
      ]
     },
     "execution_count": 8,
     "metadata": {},
     "output_type": "execute_result"
    }
   ],
   "source": [
    "METADATA.head()"
   ]
  },
  {
   "cell_type": "code",
   "execution_count": 11,
   "metadata": {},
   "outputs": [
    {
     "data": {
      "text/plain": [
       "(238, 8)"
      ]
     },
     "execution_count": 11,
     "metadata": {},
     "output_type": "execute_result"
    }
   ],
   "source": [
    "METADATA.shape"
   ]
  },
  {
   "attachments": {},
   "cell_type": "markdown",
   "metadata": {},
   "source": [
    "### Feature Extraction"
   ]
  },
  {
   "cell_type": "code",
   "execution_count": 90,
   "metadata": {},
   "outputs": [],
   "source": [
    "def _get_weight_features(model_repr, axis=None):\n",
    "    weight_features = []\n",
    "    for param in model_repr.values():\n",
    "        pshape = len(param.shape)\n",
    "        axis = tuple(range(-1, -1*(pshape), -1))\n",
    "        weight_features += np.max(param, axis= axis).tolist()\n",
    "        weight_features += np.mean(param, axis= axis).tolist()\n",
    "        sub = np.mean(param, axis= axis) - np.median(param, axis= axis)\n",
    "        weight_features += sub.tolist()\n",
    "        weight_features += np.median(param, axis= axis).tolist()\n",
    "        weight_features += np.sum(np.abs(param), axis= axis).tolist()\n",
    "    return weight_features\n",
    "\n",
    "def _get_eigen_features(model_repr):\n",
    "    min_shape, params = 1, []\n",
    "    for param in model_repr.values():\n",
    "        if len(param.shape) > min_shape:\n",
    "            reshaped_param = param.reshape(param.shape[0], -1)\n",
    "            _, singular_values, _ = np.linalg.svd(reshaped_param, False)\n",
    "            ssv = np.square(singular_values).flatten()\n",
    "            params.append(ssv.max().tolist())\n",
    "            params.append(ssv.mean().tolist())\n",
    "            params.append((ssv.mean() - np.median(ssv)).tolist())\n",
    "            params.append(np.median(ssv).tolist())\n",
    "            params.append(ssv.sum().tolist())\n",
    "            # params.extend(ssv.flatten().tolist())\n",
    "    return params"
   ]
  },
  {
   "cell_type": "code",
   "execution_count": 91,
   "metadata": {},
   "outputs": [],
   "source": [
    "model_id = num_to_model_id(20)\n",
    "model_filepath = os.path.join(MODEL_FILEDIR, model_id, 'model.pt')\n",
    "model, model_repr, model_class = model_utils.load_model(model_filepath)"
   ]
  },
  {
   "cell_type": "code",
   "execution_count": 92,
   "metadata": {},
   "outputs": [
    {
     "name": "stderr",
     "output_type": "stream",
     "text": [
      "  9%|▉         | 21/238 [00:34<05:57,  1.65s/it]\n"
     ]
    },
    {
     "ename": "KeyboardInterrupt",
     "evalue": "",
     "output_type": "error",
     "traceback": [
      "\u001b[0;31m---------------------------------------------------------------------------\u001b[0m",
      "\u001b[0;31mKeyboardInterrupt\u001b[0m                         Traceback (most recent call last)",
      "Cell \u001b[0;32mIn[92], line 10\u001b[0m\n\u001b[1;32m      8\u001b[0m feature \u001b[39m=\u001b[39m []\n\u001b[1;32m      9\u001b[0m feature \u001b[39m+\u001b[39m\u001b[39m=\u001b[39m _get_weight_features(model_repr)\n\u001b[0;32m---> 10\u001b[0m feature \u001b[39m+\u001b[39m\u001b[39m=\u001b[39m _get_eigen_features(model_repr)\n\u001b[1;32m     11\u001b[0m \u001b[39m# fe, fe_len = _get_weight_features(model_backbone, target_layers=target_weight_layers, normalize=False)\u001b[39;00m\n\u001b[1;32m     12\u001b[0m \u001b[39m# feature += fe\u001b[39;00m\n\u001b[1;32m     13\u001b[0m \u001b[39m# if model_arch not in X_len:\u001b[39;00m\n\u001b[1;32m     14\u001b[0m \u001b[39m#     X_len[model_arch] = eig_len\u001b[39;00m\n\u001b[1;32m     16\u001b[0m poisoned \u001b[39m=\u001b[39m METADATA[METADATA[\u001b[39m'\u001b[39m\u001b[39mmodel_name\u001b[39m\u001b[39m'\u001b[39m] \u001b[39m==\u001b[39m model_id][\u001b[39m'\u001b[39m\u001b[39mpoisoned\u001b[39m\u001b[39m'\u001b[39m]\u001b[39m.\u001b[39mitem()\n",
      "Cell \u001b[0;32mIn[90], line 19\u001b[0m, in \u001b[0;36m_get_eigen_features\u001b[0;34m(model_repr)\u001b[0m\n\u001b[1;32m     17\u001b[0m \u001b[39mif\u001b[39;00m \u001b[39mlen\u001b[39m(param\u001b[39m.\u001b[39mshape) \u001b[39m>\u001b[39m min_shape:\n\u001b[1;32m     18\u001b[0m     reshaped_param \u001b[39m=\u001b[39m param\u001b[39m.\u001b[39mreshape(param\u001b[39m.\u001b[39mshape[\u001b[39m0\u001b[39m], \u001b[39m-\u001b[39m\u001b[39m1\u001b[39m)\n\u001b[0;32m---> 19\u001b[0m     _, singular_values, _ \u001b[39m=\u001b[39m np\u001b[39m.\u001b[39;49mlinalg\u001b[39m.\u001b[39;49msvd(reshaped_param, \u001b[39mFalse\u001b[39;49;00m)\n\u001b[1;32m     20\u001b[0m     ssv \u001b[39m=\u001b[39m np\u001b[39m.\u001b[39msquare(singular_values)\n\u001b[1;32m     21\u001b[0m     \u001b[39m# params.append(ssv.max().tolist())\u001b[39;00m\n\u001b[1;32m     22\u001b[0m     \u001b[39m# params.append(ssv.mean().tolist())\u001b[39;00m\n\u001b[1;32m     23\u001b[0m     \u001b[39m# params.append((ssv.mean() - torch.median(ssv)).tolist())\u001b[39;00m\n\u001b[1;32m     24\u001b[0m     \u001b[39m# params.append(torch.median(ssv).tolist())\u001b[39;00m\n\u001b[1;32m     25\u001b[0m     \u001b[39m# params.append(ssv.sum().tolist())\u001b[39;00m\n",
      "File \u001b[0;32m<__array_function__ internals>:200\u001b[0m, in \u001b[0;36msvd\u001b[0;34m(*args, **kwargs)\u001b[0m\n",
      "File \u001b[0;32m/scratch/jialin/anaconda3/envs/rl-lavaworld-clone/lib/python3.8/site-packages/numpy/linalg/linalg.py:1642\u001b[0m, in \u001b[0;36msvd\u001b[0;34m(a, full_matrices, compute_uv, hermitian)\u001b[0m\n\u001b[1;32m   1640\u001b[0m     \u001b[39mreturn\u001b[39;00m wrap(u), s, wrap(vh)\n\u001b[1;32m   1641\u001b[0m \u001b[39melse\u001b[39;00m:\n\u001b[0;32m-> 1642\u001b[0m     \u001b[39mif\u001b[39;00m m \u001b[39m<\u001b[39m n:\n\u001b[1;32m   1643\u001b[0m         gufunc \u001b[39m=\u001b[39m _umath_linalg\u001b[39m.\u001b[39msvd_m\n\u001b[1;32m   1644\u001b[0m     \u001b[39melse\u001b[39;00m:\n",
      "\u001b[0;31mKeyboardInterrupt\u001b[0m: "
     ]
    }
   ],
   "source": [
    "# X, y = [], []\n",
    "X, y, X_len = {}, {}, {}\n",
    "for model_num in tqdm(range(238)):\n",
    "    model_id = num_to_model_id(model_num)\n",
    "    model_filepath = os.path.join(MODEL_FILEDIR, model_id, 'model.pt')\n",
    "    model, model_repr, model_class = model_utils.load_model(model_filepath)\n",
    "\n",
    "    feature = []\n",
    "    feature += _get_weight_features(model_repr)\n",
    "    feature += _get_eigen_features(model_repr)\n",
    "    # fe, fe_len = _get_weight_features(model_backbone, target_layers=target_weight_layers, normalize=False)\n",
    "    # feature += fe\n",
    "    # if model_arch not in X_len:\n",
    "    #     X_len[model_arch] = eig_len\n",
    "\n",
    "    poisoned = METADATA[METADATA['model_name'] == model_id]['poisoned'].item()\n",
    "\n",
    "    if model_class in X:\n",
    "        X[model_class].append(feature)\n",
    "        y[model_class].append(poisoned)\n",
    "        # X_len[model_class] = fe_len\n",
    "    else:\n",
    "        X[model_class] = [feature]\n",
    "        y[model_class] = [poisoned]\n",
    "        # X_len[model_class] = fe_len\n",
    "\n",
    "    # X.append(feature)\n",
    "    # y.append(poisoned)\n",
    "\n",
    "    del model"
   ]
  },
  {
   "cell_type": "code",
   "execution_count": 95,
   "metadata": {},
   "outputs": [
    {
     "data": {
      "text/plain": [
       "4088"
      ]
     },
     "execution_count": 95,
     "metadata": {},
     "output_type": "execute_result"
    }
   ],
   "source": [
    "len(X['SimplifiedRLStarter'][0])"
   ]
  },
  {
   "attachments": {},
   "cell_type": "markdown",
   "metadata": {},
   "source": [
    "SSD: (cen array([31,  3, 32, 37, 39, 29, 14,  0, 22, 35]), acc array([31, 37,  3, 42, 25, 39, 32, 45, 29, 19]))\n",
    "DETR: (array([ 80,  55, 134,  52, 285, 321, 267, 320, 299, 305]), array([ 80,  55,  46,  52, 113, 320, 305, 134, 290, 215]))\n",
    "RCNN: (array([147,  12,  18, 164, 161, 169, 114,  72,  45,  53]), array([164, 169, 161, 147,  12,  18, 114, 127, 137, 140]))"
   ]
  },
  {
   "cell_type": "code",
   "execution_count": 12,
   "metadata": {},
   "outputs": [
    {
     "name": "stdout",
     "output_type": "stream",
     "text": [
      "SSD 2095\n",
      "DetrForObjectDetection 966\n",
      "FasterRCNN 1265\n"
     ]
    }
   ],
   "source": [
    "for k, v in X.items():\n",
    "    np.save(os.path.join(OUTPUT_FILEDIR, f'{k}_X.npy'), v)\n",
    "    np.save(os.path.join(OUTPUT_FILEDIR, f'{k}_y.npy'), y[k])\n",
    "    # np.save(os.path.join(OUTPUT_FILEDIR, f'{k}_X_len.npy'), X_len[k])\n",
    "    print(k, len(v[0]))"
   ]
  },
  {
   "cell_type": "code",
   "execution_count": 22,
   "metadata": {},
   "outputs": [
    {
     "name": "stderr",
     "output_type": "stream",
     "text": [
      "100%|██████████| 3/3 [00:07<00:00,  2.49s/it]\n"
     ]
    }
   ],
   "source": [
    "X_len = {}\n",
    "for model_num in tqdm([0, 1, 3]):\n",
    "    model_id = num_to_model_id(model_num)\n",
    "    model_filepath = os.path.join(MODEL_FILEDIR, model_id, 'model.pt')\n",
    "    model, _, model_class = model_utils.load_model(model_filepath)\n",
    "    model = model.to(device)\n",
    "    if 'Detr' not in model_class:\n",
    "        model_backbone = model.backbone\n",
    "    else:\n",
    "        model_backbone = model\n",
    "\n",
    "    fe_len, idx_list = [], [(0, 1e8)]\n",
    "    # if 'SSD' in model_class:\n",
    "        # idx_list = [(2, 5)]\n",
    "    # elif 'RCNN' in model_class:\n",
    "        # idx_list = [(2, 3)]\n",
    "    # else:\n",
    "        # idx_list = [(45, 45), (69, 69), (79, 79), (89, 89)]\n",
    "            \n",
    "    for idx_lo, idx_hi in idx_list:\n",
    "        fe_len = _get_eigen_vals(model_backbone, idx_lo, idx_hi)[1]\n",
    "    X_len[model_class] = fe_len"
   ]
  },
  {
   "cell_type": "code",
   "execution_count": 30,
   "metadata": {},
   "outputs": [],
   "source": [
    "key = 'FasterRCNN'"
   ]
  },
  {
   "cell_type": "code",
   "execution_count": 31,
   "metadata": {},
   "outputs": [],
   "source": [
    "weight_range = [0] + X_len[key]\n",
    "# weight_range = list(range(0, len(X[key][0])+1, 8))"
   ]
  },
  {
   "cell_type": "code",
   "execution_count": 32,
   "metadata": {},
   "outputs": [],
   "source": [
    "cens, accs = [], []\n",
    "clf = GradientBoostingClassifier(learning_rate=0.015, n_estimators=900, max_depth=3, max_features= 120, min_samples_leaf= 6, min_samples_split= 24)"
   ]
  },
  {
   "cell_type": "code",
   "execution_count": 33,
   "metadata": {},
   "outputs": [
    {
     "name": "stderr",
     "output_type": "stream",
     "text": [
      "  0%|          | 1/209 [00:17<59:04, 17.04s/it]"
     ]
    },
    {
     "name": "stdout",
     "output_type": "stream",
     "text": [
      "avg cen for eigen layer 0 is 1.0643932470509363, avg acc is 0.5422222222222223\n"
     ]
    },
    {
     "name": "stderr",
     "output_type": "stream",
     "text": [
      "  1%|          | 2/209 [00:33<58:21, 16.92s/it]"
     ]
    },
    {
     "name": "stdout",
     "output_type": "stream",
     "text": [
      "avg cen for eigen layer 1 is 0.8261505305147052, avg acc is 0.6488888888888888\n"
     ]
    },
    {
     "name": "stderr",
     "output_type": "stream",
     "text": [
      "  1%|▏         | 3/209 [00:50<57:46, 16.83s/it]"
     ]
    },
    {
     "name": "stdout",
     "output_type": "stream",
     "text": [
      "avg cen for eigen layer 2 is 0.8101378250768598, avg acc is 0.6111111111111112\n"
     ]
    },
    {
     "name": "stderr",
     "output_type": "stream",
     "text": [
      "  2%|▏         | 4/209 [01:07<57:47, 16.91s/it]"
     ]
    },
    {
     "name": "stdout",
     "output_type": "stream",
     "text": [
      "avg cen for eigen layer 3 is 0.8477452250933064, avg acc is 0.6088888888888889\n"
     ]
    },
    {
     "name": "stderr",
     "output_type": "stream",
     "text": [
      "  2%|▏         | 5/209 [01:24<57:29, 16.91s/it]"
     ]
    },
    {
     "name": "stdout",
     "output_type": "stream",
     "text": [
      "avg cen for eigen layer 4 is 0.7140559537284339, avg acc is 0.7222222222222223\n"
     ]
    },
    {
     "name": "stderr",
     "output_type": "stream",
     "text": [
      "  3%|▎         | 6/209 [01:41<56:42, 16.76s/it]"
     ]
    },
    {
     "name": "stdout",
     "output_type": "stream",
     "text": [
      "avg cen for eigen layer 5 is 0.9111582368853527, avg acc is 0.64\n"
     ]
    },
    {
     "name": "stderr",
     "output_type": "stream",
     "text": [
      "  3%|▎         | 7/209 [02:09<1:09:51, 20.75s/it]"
     ]
    },
    {
     "name": "stdout",
     "output_type": "stream",
     "text": [
      "avg cen for eigen layer 6 is 0.7680052767354764, avg acc is 0.7266666666666667\n"
     ]
    },
    {
     "name": "stderr",
     "output_type": "stream",
     "text": [
      "  4%|▍         | 8/209 [02:26<1:05:24, 19.52s/it]"
     ]
    },
    {
     "name": "stdout",
     "output_type": "stream",
     "text": [
      "avg cen for eigen layer 7 is 0.7971670468091426, avg acc is 0.7244444444444444\n"
     ]
    },
    {
     "name": "stderr",
     "output_type": "stream",
     "text": [
      "  4%|▍         | 9/209 [02:43<1:02:00, 18.60s/it]"
     ]
    },
    {
     "name": "stdout",
     "output_type": "stream",
     "text": [
      "avg cen for eigen layer 8 is 0.9072668762831558, avg acc is 0.548888888888889\n"
     ]
    },
    {
     "name": "stderr",
     "output_type": "stream",
     "text": [
      "  5%|▍         | 10/209 [03:00<59:47, 18.03s/it] "
     ]
    },
    {
     "name": "stdout",
     "output_type": "stream",
     "text": [
      "avg cen for eigen layer 9 is 0.9793798518176752, avg acc is 0.62\n"
     ]
    },
    {
     "name": "stderr",
     "output_type": "stream",
     "text": [
      "  5%|▌         | 11/209 [03:17<58:24, 17.70s/it]"
     ]
    },
    {
     "name": "stdout",
     "output_type": "stream",
     "text": [
      "avg cen for eigen layer 10 is 0.786173548526897, avg acc is 0.6733333333333331\n"
     ]
    },
    {
     "name": "stderr",
     "output_type": "stream",
     "text": [
      "  6%|▌         | 12/209 [03:33<56:55, 17.34s/it]"
     ]
    },
    {
     "name": "stdout",
     "output_type": "stream",
     "text": [
      "avg cen for eigen layer 11 is 0.8512596975268879, avg acc is 0.6155555555555555\n"
     ]
    },
    {
     "name": "stderr",
     "output_type": "stream",
     "text": [
      "  6%|▌         | 13/209 [03:50<55:58, 17.13s/it]"
     ]
    },
    {
     "name": "stdout",
     "output_type": "stream",
     "text": [
      "avg cen for eigen layer 12 is 0.8405860060824725, avg acc is 0.7177777777777777\n"
     ]
    },
    {
     "name": "stderr",
     "output_type": "stream",
     "text": [
      "  7%|▋         | 14/209 [04:07<55:23, 17.05s/it]"
     ]
    },
    {
     "name": "stdout",
     "output_type": "stream",
     "text": [
      "avg cen for eigen layer 13 is 0.9286750068781099, avg acc is 0.6333333333333333\n"
     ]
    },
    {
     "name": "stderr",
     "output_type": "stream",
     "text": [
      "  7%|▋         | 15/209 [04:23<54:33, 16.87s/it]"
     ]
    },
    {
     "name": "stdout",
     "output_type": "stream",
     "text": [
      "avg cen for eigen layer 14 is 0.8545813527882641, avg acc is 0.6155555555555555\n"
     ]
    },
    {
     "name": "stderr",
     "output_type": "stream",
     "text": [
      "  8%|▊         | 16/209 [04:40<54:16, 16.87s/it]"
     ]
    },
    {
     "name": "stdout",
     "output_type": "stream",
     "text": [
      "avg cen for eigen layer 15 is 0.9162016573364875, avg acc is 0.6755555555555556\n"
     ]
    },
    {
     "name": "stderr",
     "output_type": "stream",
     "text": [
      "  8%|▊         | 17/209 [04:57<54:14, 16.95s/it]"
     ]
    },
    {
     "name": "stdout",
     "output_type": "stream",
     "text": [
      "avg cen for eigen layer 16 is 0.722066505746896, avg acc is 0.7066666666666666\n"
     ]
    },
    {
     "name": "stderr",
     "output_type": "stream",
     "text": [
      "  9%|▊         | 18/209 [05:14<53:37, 16.84s/it]"
     ]
    },
    {
     "name": "stdout",
     "output_type": "stream",
     "text": [
      "avg cen for eigen layer 17 is 0.9234771193788882, avg acc is 0.6088888888888889\n"
     ]
    },
    {
     "name": "stderr",
     "output_type": "stream",
     "text": [
      "  9%|▉         | 19/209 [05:42<1:04:13, 20.28s/it]"
     ]
    },
    {
     "name": "stdout",
     "output_type": "stream",
     "text": [
      "avg cen for eigen layer 18 is 0.9089795172916033, avg acc is 0.6666666666666665\n"
     ]
    },
    {
     "name": "stderr",
     "output_type": "stream",
     "text": [
      " 10%|▉         | 20/209 [05:58<1:00:05, 19.08s/it]"
     ]
    },
    {
     "name": "stdout",
     "output_type": "stream",
     "text": [
      "avg cen for eigen layer 19 is 0.7837150220308073, avg acc is 0.6777777777777777\n"
     ]
    },
    {
     "name": "stderr",
     "output_type": "stream",
     "text": [
      " 10%|█         | 21/209 [06:14<56:57, 18.18s/it]  "
     ]
    },
    {
     "name": "stdout",
     "output_type": "stream",
     "text": [
      "avg cen for eigen layer 20 is 0.858825122644253, avg acc is 0.5844444444444445\n"
     ]
    },
    {
     "name": "stderr",
     "output_type": "stream",
     "text": [
      " 11%|█         | 22/209 [06:31<54:54, 17.62s/it]"
     ]
    },
    {
     "name": "stdout",
     "output_type": "stream",
     "text": [
      "avg cen for eigen layer 21 is 0.9868899623835408, avg acc is 0.5955555555555556\n"
     ]
    },
    {
     "name": "stderr",
     "output_type": "stream",
     "text": [
      " 11%|█         | 23/209 [06:47<53:20, 17.21s/it]"
     ]
    },
    {
     "name": "stdout",
     "output_type": "stream",
     "text": [
      "avg cen for eigen layer 22 is 0.7613272649887827, avg acc is 0.6933333333333332\n"
     ]
    },
    {
     "name": "stderr",
     "output_type": "stream",
     "text": [
      " 11%|█▏        | 24/209 [07:03<51:51, 16.82s/it]"
     ]
    },
    {
     "name": "stdout",
     "output_type": "stream",
     "text": [
      "avg cen for eigen layer 23 is 0.874095377659299, avg acc is 0.5911111111111111\n"
     ]
    },
    {
     "name": "stderr",
     "output_type": "stream",
     "text": [
      " 12%|█▏        | 25/209 [07:20<51:32, 16.81s/it]"
     ]
    },
    {
     "name": "stdout",
     "output_type": "stream",
     "text": [
      "avg cen for eigen layer 24 is 0.8050189622495636, avg acc is 0.6977777777777777\n"
     ]
    },
    {
     "name": "stderr",
     "output_type": "stream",
     "text": [
      " 12%|█▏        | 26/209 [07:36<50:36, 16.60s/it]"
     ]
    },
    {
     "name": "stdout",
     "output_type": "stream",
     "text": [
      "avg cen for eigen layer 25 is 0.6498192913771086, avg acc is 0.7088888888888889\n"
     ]
    },
    {
     "name": "stderr",
     "output_type": "stream",
     "text": [
      " 13%|█▎        | 27/209 [07:52<49:58, 16.48s/it]"
     ]
    },
    {
     "name": "stdout",
     "output_type": "stream",
     "text": [
      "avg cen for eigen layer 26 is 0.9396821960194192, avg acc is 0.5711111111111111\n"
     ]
    },
    {
     "name": "stderr",
     "output_type": "stream",
     "text": [
      " 13%|█▎        | 28/209 [08:22<1:01:54, 20.52s/it]"
     ]
    },
    {
     "name": "stdout",
     "output_type": "stream",
     "text": [
      "avg cen for eigen layer 27 is 0.9930613822672375, avg acc is 0.66\n"
     ]
    },
    {
     "name": "stderr",
     "output_type": "stream",
     "text": [
      " 14%|█▍        | 29/209 [08:38<57:49, 19.27s/it]  "
     ]
    },
    {
     "name": "stdout",
     "output_type": "stream",
     "text": [
      "avg cen for eigen layer 28 is 0.702789275947827, avg acc is 0.7533333333333334\n"
     ]
    },
    {
     "name": "stderr",
     "output_type": "stream",
     "text": [
      " 14%|█▍        | 30/209 [08:55<55:01, 18.45s/it]"
     ]
    },
    {
     "name": "stdout",
     "output_type": "stream",
     "text": [
      "avg cen for eigen layer 29 is 0.9027625389923796, avg acc is 0.6577777777777777\n"
     ]
    },
    {
     "name": "stderr",
     "output_type": "stream",
     "text": [
      " 15%|█▍        | 31/209 [09:11<52:44, 17.78s/it]"
     ]
    },
    {
     "name": "stdout",
     "output_type": "stream",
     "text": [
      "avg cen for eigen layer 30 is 0.9820550071777869, avg acc is 0.5844444444444444\n"
     ]
    },
    {
     "name": "stderr",
     "output_type": "stream",
     "text": [
      " 15%|█▌        | 32/209 [09:27<51:05, 17.32s/it]"
     ]
    },
    {
     "name": "stdout",
     "output_type": "stream",
     "text": [
      "avg cen for eigen layer 31 is 0.8201674614005111, avg acc is 0.6844444444444443\n"
     ]
    },
    {
     "name": "stderr",
     "output_type": "stream",
     "text": [
      " 16%|█▌        | 33/209 [09:43<49:51, 17.00s/it]"
     ]
    },
    {
     "name": "stdout",
     "output_type": "stream",
     "text": [
      "avg cen for eigen layer 32 is 0.926181768443017, avg acc is 0.5933333333333333\n"
     ]
    },
    {
     "name": "stderr",
     "output_type": "stream",
     "text": [
      " 16%|█▋        | 34/209 [10:00<49:01, 16.81s/it]"
     ]
    },
    {
     "name": "stdout",
     "output_type": "stream",
     "text": [
      "avg cen for eigen layer 33 is 1.1009918033086374, avg acc is 0.6\n"
     ]
    },
    {
     "name": "stderr",
     "output_type": "stream",
     "text": [
      " 17%|█▋        | 35/209 [10:16<48:17, 16.65s/it]"
     ]
    },
    {
     "name": "stdout",
     "output_type": "stream",
     "text": [
      "avg cen for eigen layer 34 is 0.8838706203435597, avg acc is 0.6111111111111112\n"
     ]
    },
    {
     "name": "stderr",
     "output_type": "stream",
     "text": [
      " 17%|█▋        | 36/209 [10:32<47:36, 16.51s/it]"
     ]
    },
    {
     "name": "stdout",
     "output_type": "stream",
     "text": [
      "avg cen for eigen layer 35 is 0.8289339504444406, avg acc is 0.5977777777777779\n"
     ]
    },
    {
     "name": "stderr",
     "output_type": "stream",
     "text": [
      " 18%|█▊        | 37/209 [11:02<58:25, 20.38s/it]"
     ]
    },
    {
     "name": "stdout",
     "output_type": "stream",
     "text": [
      "avg cen for eigen layer 36 is 0.8629342641803099, avg acc is 0.682222222222222\n"
     ]
    },
    {
     "name": "stderr",
     "output_type": "stream",
     "text": [
      " 18%|█▊        | 38/209 [11:18<54:39, 19.18s/it]"
     ]
    },
    {
     "name": "stdout",
     "output_type": "stream",
     "text": [
      "avg cen for eigen layer 37 is 0.8402640716334279, avg acc is 0.671111111111111\n"
     ]
    },
    {
     "name": "stderr",
     "output_type": "stream",
     "text": [
      " 19%|█▊        | 39/209 [11:34<51:40, 18.24s/it]"
     ]
    },
    {
     "name": "stdout",
     "output_type": "stream",
     "text": [
      "avg cen for eigen layer 38 is 0.9419234387110684, avg acc is 0.6288888888888889\n"
     ]
    },
    {
     "name": "stderr",
     "output_type": "stream",
     "text": [
      " 19%|█▉        | 40/209 [11:51<50:00, 17.76s/it]"
     ]
    },
    {
     "name": "stdout",
     "output_type": "stream",
     "text": [
      "avg cen for eigen layer 39 is 0.8999406484642016, avg acc is 0.6444444444444444\n"
     ]
    },
    {
     "name": "stderr",
     "output_type": "stream",
     "text": [
      " 20%|█▉        | 41/209 [12:08<48:53, 17.46s/it]"
     ]
    },
    {
     "name": "stdout",
     "output_type": "stream",
     "text": [
      "avg cen for eigen layer 40 is 0.7718565528615929, avg acc is 0.7111111111111111\n"
     ]
    },
    {
     "name": "stderr",
     "output_type": "stream",
     "text": [
      " 20%|██        | 42/209 [12:24<47:47, 17.17s/it]"
     ]
    },
    {
     "name": "stdout",
     "output_type": "stream",
     "text": [
      "avg cen for eigen layer 41 is 0.8949919827813528, avg acc is 0.6444444444444444\n"
     ]
    },
    {
     "name": "stderr",
     "output_type": "stream",
     "text": [
      " 21%|██        | 43/209 [12:41<46:56, 16.96s/it]"
     ]
    },
    {
     "name": "stdout",
     "output_type": "stream",
     "text": [
      "avg cen for eigen layer 42 is 0.9562742063543466, avg acc is 0.591111111111111\n"
     ]
    },
    {
     "name": "stderr",
     "output_type": "stream",
     "text": [
      " 21%|██        | 44/209 [12:58<46:54, 17.06s/it]"
     ]
    },
    {
     "name": "stdout",
     "output_type": "stream",
     "text": [
      "avg cen for eigen layer 43 is 0.896800557439242, avg acc is 0.6333333333333333\n"
     ]
    },
    {
     "name": "stderr",
     "output_type": "stream",
     "text": [
      " 22%|██▏       | 45/209 [13:15<46:41, 17.08s/it]"
     ]
    },
    {
     "name": "stdout",
     "output_type": "stream",
     "text": [
      "avg cen for eigen layer 44 is 0.8956836282474623, avg acc is 0.6422222222222222\n"
     ]
    },
    {
     "name": "stderr",
     "output_type": "stream",
     "text": [
      " 22%|██▏       | 46/209 [13:31<45:47, 16.86s/it]"
     ]
    },
    {
     "name": "stdout",
     "output_type": "stream",
     "text": [
      "avg cen for eigen layer 45 is 0.9487251793399583, avg acc is 0.6266666666666666\n"
     ]
    },
    {
     "name": "stderr",
     "output_type": "stream",
     "text": [
      " 22%|██▏       | 47/209 [13:48<45:02, 16.69s/it]"
     ]
    },
    {
     "name": "stdout",
     "output_type": "stream",
     "text": [
      "avg cen for eigen layer 46 is 0.8593210272717251, avg acc is 0.6422222222222221\n"
     ]
    },
    {
     "name": "stderr",
     "output_type": "stream",
     "text": [
      " 23%|██▎       | 48/209 [14:04<44:29, 16.58s/it]"
     ]
    },
    {
     "name": "stdout",
     "output_type": "stream",
     "text": [
      "avg cen for eigen layer 47 is 0.9397402506883131, avg acc is 0.6666666666666665\n"
     ]
    },
    {
     "name": "stderr",
     "output_type": "stream",
     "text": [
      " 23%|██▎       | 49/209 [14:33<54:14, 20.34s/it]"
     ]
    },
    {
     "name": "stdout",
     "output_type": "stream",
     "text": [
      "avg cen for eigen layer 48 is 0.9050227226671181, avg acc is 0.6866666666666665\n"
     ]
    },
    {
     "name": "stderr",
     "output_type": "stream",
     "text": [
      " 24%|██▍       | 50/209 [14:50<50:54, 19.21s/it]"
     ]
    },
    {
     "name": "stdout",
     "output_type": "stream",
     "text": [
      "avg cen for eigen layer 49 is 0.8176655634737512, avg acc is 0.6422222222222221\n"
     ]
    },
    {
     "name": "stderr",
     "output_type": "stream",
     "text": [
      " 24%|██▍       | 51/209 [15:06<48:21, 18.36s/it]"
     ]
    },
    {
     "name": "stdout",
     "output_type": "stream",
     "text": [
      "avg cen for eigen layer 50 is 0.9514341252277697, avg acc is 0.6511111111111112\n"
     ]
    },
    {
     "name": "stderr",
     "output_type": "stream",
     "text": [
      " 25%|██▍       | 52/209 [15:22<46:36, 17.81s/it]"
     ]
    },
    {
     "name": "stdout",
     "output_type": "stream",
     "text": [
      "avg cen for eigen layer 51 is 1.036480713298017, avg acc is 0.5933333333333333\n"
     ]
    },
    {
     "name": "stderr",
     "output_type": "stream",
     "text": [
      " 25%|██▌       | 53/209 [15:39<45:07, 17.36s/it]"
     ]
    },
    {
     "name": "stdout",
     "output_type": "stream",
     "text": [
      "avg cen for eigen layer 52 is 0.9729577713014795, avg acc is 0.5288888888888889\n"
     ]
    },
    {
     "name": "stderr",
     "output_type": "stream",
     "text": [
      " 26%|██▌       | 54/209 [15:55<43:49, 16.97s/it]"
     ]
    },
    {
     "name": "stdout",
     "output_type": "stream",
     "text": [
      "avg cen for eigen layer 53 is 0.8405484287721692, avg acc is 0.6622222222222222\n"
     ]
    },
    {
     "name": "stderr",
     "output_type": "stream",
     "text": [
      " 26%|██▋       | 55/209 [16:12<43:32, 16.97s/it]"
     ]
    },
    {
     "name": "stdout",
     "output_type": "stream",
     "text": [
      "avg cen for eigen layer 54 is 1.0717022193439583, avg acc is 0.6355555555555555\n"
     ]
    },
    {
     "name": "stderr",
     "output_type": "stream",
     "text": [
      " 27%|██▋       | 56/209 [16:28<42:47, 16.78s/it]"
     ]
    },
    {
     "name": "stdout",
     "output_type": "stream",
     "text": [
      "avg cen for eigen layer 55 is 0.9082813625447207, avg acc is 0.5755555555555555\n"
     ]
    },
    {
     "name": "stderr",
     "output_type": "stream",
     "text": [
      " 27%|██▋       | 57/209 [16:44<42:03, 16.60s/it]"
     ]
    },
    {
     "name": "stdout",
     "output_type": "stream",
     "text": [
      "avg cen for eigen layer 56 is 0.8517827873524118, avg acc is 0.6133333333333334\n"
     ]
    },
    {
     "name": "stderr",
     "output_type": "stream",
     "text": [
      " 28%|██▊       | 58/209 [17:14<51:32, 20.48s/it]"
     ]
    },
    {
     "name": "stdout",
     "output_type": "stream",
     "text": [
      "avg cen for eigen layer 57 is 1.025191133865102, avg acc is 0.6466666666666667\n"
     ]
    },
    {
     "name": "stderr",
     "output_type": "stream",
     "text": [
      " 28%|██▊       | 59/209 [17:30<48:00, 19.20s/it]"
     ]
    },
    {
     "name": "stdout",
     "output_type": "stream",
     "text": [
      "avg cen for eigen layer 58 is 0.9265157045309058, avg acc is 0.5777777777777778\n"
     ]
    },
    {
     "name": "stderr",
     "output_type": "stream",
     "text": [
      " 29%|██▊       | 60/209 [17:46<45:13, 18.21s/it]"
     ]
    },
    {
     "name": "stdout",
     "output_type": "stream",
     "text": [
      "avg cen for eigen layer 59 is 0.7708295067429459, avg acc is 0.6866666666666668\n"
     ]
    },
    {
     "name": "stderr",
     "output_type": "stream",
     "text": [
      " 29%|██▉       | 61/209 [18:02<43:39, 17.70s/it]"
     ]
    },
    {
     "name": "stdout",
     "output_type": "stream",
     "text": [
      "avg cen for eigen layer 60 is 0.881582293362217, avg acc is 0.6377777777777778\n"
     ]
    },
    {
     "name": "stderr",
     "output_type": "stream",
     "text": [
      " 30%|██▉       | 62/209 [18:19<42:29, 17.34s/it]"
     ]
    },
    {
     "name": "stdout",
     "output_type": "stream",
     "text": [
      "avg cen for eigen layer 61 is 0.6988082960147008, avg acc is 0.711111111111111\n"
     ]
    },
    {
     "name": "stderr",
     "output_type": "stream",
     "text": [
      " 30%|███       | 63/209 [18:35<41:20, 16.99s/it]"
     ]
    },
    {
     "name": "stdout",
     "output_type": "stream",
     "text": [
      "avg cen for eigen layer 62 is 1.0003226476168396, avg acc is 0.5755555555555556\n"
     ]
    },
    {
     "name": "stderr",
     "output_type": "stream",
     "text": [
      " 31%|███       | 64/209 [18:52<40:47, 16.88s/it]"
     ]
    },
    {
     "name": "stdout",
     "output_type": "stream",
     "text": [
      "avg cen for eigen layer 63 is 1.0472310442667985, avg acc is 0.5844444444444443\n"
     ]
    },
    {
     "name": "stderr",
     "output_type": "stream",
     "text": [
      " 31%|███       | 65/209 [19:09<40:49, 17.01s/it]"
     ]
    },
    {
     "name": "stdout",
     "output_type": "stream",
     "text": [
      "avg cen for eigen layer 64 is 0.9476812923501795, avg acc is 0.611111111111111\n"
     ]
    },
    {
     "name": "stderr",
     "output_type": "stream",
     "text": [
      " 32%|███▏      | 66/209 [19:26<40:15, 16.89s/it]"
     ]
    },
    {
     "name": "stdout",
     "output_type": "stream",
     "text": [
      "avg cen for eigen layer 65 is 0.9694715139043898, avg acc is 0.62\n"
     ]
    },
    {
     "name": "stderr",
     "output_type": "stream",
     "text": [
      " 32%|███▏      | 67/209 [19:55<49:01, 20.71s/it]"
     ]
    },
    {
     "name": "stdout",
     "output_type": "stream",
     "text": [
      "avg cen for eigen layer 66 is 1.147871664462175, avg acc is 0.6288888888888889\n"
     ]
    },
    {
     "name": "stderr",
     "output_type": "stream",
     "text": [
      " 33%|███▎      | 68/209 [20:12<45:29, 19.36s/it]"
     ]
    },
    {
     "name": "stdout",
     "output_type": "stream",
     "text": [
      "avg cen for eigen layer 67 is 0.8558051940240236, avg acc is 0.6533333333333333\n"
     ]
    },
    {
     "name": "stderr",
     "output_type": "stream",
     "text": [
      " 33%|███▎      | 69/209 [20:27<42:32, 18.23s/it]"
     ]
    },
    {
     "name": "stdout",
     "output_type": "stream",
     "text": [
      "avg cen for eigen layer 68 is 0.5839178447470411, avg acc is 0.7444444444444442\n"
     ]
    },
    {
     "name": "stderr",
     "output_type": "stream",
     "text": [
      " 33%|███▎      | 70/209 [20:43<40:38, 17.54s/it]"
     ]
    },
    {
     "name": "stdout",
     "output_type": "stream",
     "text": [
      "avg cen for eigen layer 69 is 0.9326569776003084, avg acc is 0.6111111111111112\n"
     ]
    },
    {
     "name": "stderr",
     "output_type": "stream",
     "text": [
      " 34%|███▍      | 71/209 [20:59<39:21, 17.11s/it]"
     ]
    },
    {
     "name": "stdout",
     "output_type": "stream",
     "text": [
      "avg cen for eigen layer 70 is 0.8142929996733218, avg acc is 0.6466666666666666\n"
     ]
    },
    {
     "name": "stderr",
     "output_type": "stream",
     "text": [
      " 34%|███▍      | 72/209 [21:15<38:27, 16.84s/it]"
     ]
    },
    {
     "name": "stdout",
     "output_type": "stream",
     "text": [
      "avg cen for eigen layer 71 is 0.8911522999110538, avg acc is 0.6155555555555556\n"
     ]
    },
    {
     "name": "stderr",
     "output_type": "stream",
     "text": [
      " 35%|███▍      | 73/209 [21:32<37:40, 16.62s/it]"
     ]
    },
    {
     "name": "stdout",
     "output_type": "stream",
     "text": [
      "avg cen for eigen layer 72 is 0.7477679475486747, avg acc is 0.68\n"
     ]
    },
    {
     "name": "stderr",
     "output_type": "stream",
     "text": [
      " 35%|███▌      | 74/209 [21:48<37:27, 16.65s/it]"
     ]
    },
    {
     "name": "stdout",
     "output_type": "stream",
     "text": [
      "avg cen for eigen layer 73 is 0.8358446873319565, avg acc is 0.6555555555555556\n"
     ]
    },
    {
     "name": "stderr",
     "output_type": "stream",
     "text": [
      " 36%|███▌      | 75/209 [22:05<36:59, 16.57s/it]"
     ]
    },
    {
     "name": "stdout",
     "output_type": "stream",
     "text": [
      "avg cen for eigen layer 74 is 0.971688822678222, avg acc is 0.5555555555555557\n"
     ]
    },
    {
     "name": "stderr",
     "output_type": "stream",
     "text": [
      " 36%|███▋      | 76/209 [22:34<45:22, 20.47s/it]"
     ]
    },
    {
     "name": "stdout",
     "output_type": "stream",
     "text": [
      "avg cen for eigen layer 75 is 0.9542938190448466, avg acc is 0.6799999999999998\n"
     ]
    },
    {
     "name": "stderr",
     "output_type": "stream",
     "text": [
      " 37%|███▋      | 77/209 [22:51<42:21, 19.25s/it]"
     ]
    },
    {
     "name": "stdout",
     "output_type": "stream",
     "text": [
      "avg cen for eigen layer 76 is 0.7471107242180302, avg acc is 0.7022222222222222\n"
     ]
    },
    {
     "name": "stderr",
     "output_type": "stream",
     "text": [
      " 37%|███▋      | 78/209 [23:07<39:58, 18.31s/it]"
     ]
    },
    {
     "name": "stdout",
     "output_type": "stream",
     "text": [
      "avg cen for eigen layer 77 is 1.0609008118460215, avg acc is 0.5155555555555557\n"
     ]
    },
    {
     "name": "stderr",
     "output_type": "stream",
     "text": [
      " 38%|███▊      | 79/209 [23:23<38:06, 17.59s/it]"
     ]
    },
    {
     "name": "stdout",
     "output_type": "stream",
     "text": [
      "avg cen for eigen layer 78 is 0.7435678301640445, avg acc is 0.6511111111111112\n"
     ]
    },
    {
     "name": "stderr",
     "output_type": "stream",
     "text": [
      " 38%|███▊      | 80/209 [23:39<37:04, 17.24s/it]"
     ]
    },
    {
     "name": "stdout",
     "output_type": "stream",
     "text": [
      "avg cen for eigen layer 79 is 0.7807395623605536, avg acc is 0.7\n"
     ]
    },
    {
     "name": "stderr",
     "output_type": "stream",
     "text": [
      " 39%|███▉      | 81/209 [23:55<35:58, 16.87s/it]"
     ]
    },
    {
     "name": "stdout",
     "output_type": "stream",
     "text": [
      "avg cen for eigen layer 80 is 0.8484173860817792, avg acc is 0.6333333333333333\n"
     ]
    },
    {
     "name": "stderr",
     "output_type": "stream",
     "text": [
      " 39%|███▉      | 82/209 [24:11<35:16, 16.67s/it]"
     ]
    },
    {
     "name": "stdout",
     "output_type": "stream",
     "text": [
      "avg cen for eigen layer 81 is 0.921546745749616, avg acc is 0.5733333333333333\n"
     ]
    },
    {
     "name": "stderr",
     "output_type": "stream",
     "text": [
      " 40%|███▉      | 83/209 [24:27<34:40, 16.51s/it]"
     ]
    },
    {
     "name": "stdout",
     "output_type": "stream",
     "text": [
      "avg cen for eigen layer 82 is 0.7542872266297642, avg acc is 0.7199999999999999\n"
     ]
    },
    {
     "name": "stderr",
     "output_type": "stream",
     "text": [
      " 40%|████      | 84/209 [24:43<33:58, 16.31s/it]"
     ]
    },
    {
     "name": "stdout",
     "output_type": "stream",
     "text": [
      "avg cen for eigen layer 83 is 0.8488696828976368, avg acc is 0.6333333333333333\n"
     ]
    },
    {
     "name": "stderr",
     "output_type": "stream",
     "text": [
      " 41%|████      | 85/209 [25:00<33:50, 16.38s/it]"
     ]
    },
    {
     "name": "stdout",
     "output_type": "stream",
     "text": [
      "avg cen for eigen layer 84 is 0.9239743576180572, avg acc is 0.6511111111111112\n"
     ]
    },
    {
     "name": "stderr",
     "output_type": "stream",
     "text": [
      " 41%|████      | 86/209 [25:16<33:25, 16.30s/it]"
     ]
    },
    {
     "name": "stdout",
     "output_type": "stream",
     "text": [
      "avg cen for eigen layer 85 is 0.8379876858316776, avg acc is 0.6288888888888888\n"
     ]
    },
    {
     "name": "stderr",
     "output_type": "stream",
     "text": [
      " 42%|████▏     | 87/209 [25:32<33:01, 16.25s/it]"
     ]
    },
    {
     "name": "stdout",
     "output_type": "stream",
     "text": [
      "avg cen for eigen layer 86 is 1.015843046363118, avg acc is 0.5377777777777778\n"
     ]
    },
    {
     "name": "stderr",
     "output_type": "stream",
     "text": [
      " 42%|████▏     | 88/209 [26:01<40:18, 19.98s/it]"
     ]
    },
    {
     "name": "stdout",
     "output_type": "stream",
     "text": [
      "avg cen for eigen layer 87 is 0.9465099730746891, avg acc is 0.68\n"
     ]
    },
    {
     "name": "stderr",
     "output_type": "stream",
     "text": [
      " 43%|████▎     | 89/209 [26:17<37:48, 18.90s/it]"
     ]
    },
    {
     "name": "stdout",
     "output_type": "stream",
     "text": [
      "avg cen for eigen layer 88 is 0.9559269508397676, avg acc is 0.5977777777777777\n"
     ]
    },
    {
     "name": "stderr",
     "output_type": "stream",
     "text": [
      " 43%|████▎     | 90/209 [26:33<35:59, 18.15s/it]"
     ]
    },
    {
     "name": "stdout",
     "output_type": "stream",
     "text": [
      "avg cen for eigen layer 89 is 0.8205709964739465, avg acc is 0.6822222222222222\n"
     ]
    },
    {
     "name": "stderr",
     "output_type": "stream",
     "text": [
      " 44%|████▎     | 91/209 [26:50<34:35, 17.59s/it]"
     ]
    },
    {
     "name": "stdout",
     "output_type": "stream",
     "text": [
      "avg cen for eigen layer 90 is 0.7197110126432734, avg acc is 0.7488888888888888\n"
     ]
    },
    {
     "name": "stderr",
     "output_type": "stream",
     "text": [
      " 44%|████▍     | 92/209 [27:06<33:36, 17.23s/it]"
     ]
    },
    {
     "name": "stdout",
     "output_type": "stream",
     "text": [
      "avg cen for eigen layer 91 is 0.8225158422536168, avg acc is 0.6533333333333333\n"
     ]
    },
    {
     "name": "stderr",
     "output_type": "stream",
     "text": [
      " 44%|████▍     | 93/209 [27:22<32:26, 16.78s/it]"
     ]
    },
    {
     "name": "stdout",
     "output_type": "stream",
     "text": [
      "avg cen for eigen layer 92 is 0.9686810864973577, avg acc is 0.5577777777777777\n"
     ]
    },
    {
     "name": "stderr",
     "output_type": "stream",
     "text": [
      " 45%|████▍     | 94/209 [27:38<31:48, 16.60s/it]"
     ]
    },
    {
     "name": "stdout",
     "output_type": "stream",
     "text": [
      "avg cen for eigen layer 93 is 0.8892836882897248, avg acc is 0.6244444444444445\n"
     ]
    },
    {
     "name": "stderr",
     "output_type": "stream",
     "text": [
      " 45%|████▌     | 95/209 [27:55<31:32, 16.60s/it]"
     ]
    },
    {
     "name": "stdout",
     "output_type": "stream",
     "text": [
      "avg cen for eigen layer 94 is 0.8860931337853728, avg acc is 0.62\n"
     ]
    },
    {
     "name": "stderr",
     "output_type": "stream",
     "text": [
      " 46%|████▌     | 96/209 [28:11<31:08, 16.54s/it]"
     ]
    },
    {
     "name": "stdout",
     "output_type": "stream",
     "text": [
      "avg cen for eigen layer 95 is 0.955429983674252, avg acc is 0.6311111111111112\n"
     ]
    },
    {
     "name": "stderr",
     "output_type": "stream",
     "text": [
      " 46%|████▋     | 97/209 [28:40<37:38, 20.16s/it]"
     ]
    },
    {
     "name": "stdout",
     "output_type": "stream",
     "text": [
      "avg cen for eigen layer 96 is 1.1025039002335546, avg acc is 0.6622222222222222\n"
     ]
    },
    {
     "name": "stderr",
     "output_type": "stream",
     "text": [
      " 47%|████▋     | 98/209 [28:57<35:27, 19.17s/it]"
     ]
    },
    {
     "name": "stdout",
     "output_type": "stream",
     "text": [
      "avg cen for eigen layer 97 is 0.8366877459183955, avg acc is 0.6711111111111111\n"
     ]
    },
    {
     "name": "stderr",
     "output_type": "stream",
     "text": [
      " 47%|████▋     | 99/209 [29:13<33:36, 18.33s/it]"
     ]
    },
    {
     "name": "stdout",
     "output_type": "stream",
     "text": [
      "avg cen for eigen layer 98 is 0.7395223717375117, avg acc is 0.6377777777777778\n"
     ]
    },
    {
     "name": "stderr",
     "output_type": "stream",
     "text": [
      " 48%|████▊     | 100/209 [29:29<32:16, 17.76s/it]"
     ]
    },
    {
     "name": "stdout",
     "output_type": "stream",
     "text": [
      "avg cen for eigen layer 99 is 0.9988201701443402, avg acc is 0.6266666666666667\n"
     ]
    },
    {
     "name": "stderr",
     "output_type": "stream",
     "text": [
      " 48%|████▊     | 101/209 [29:46<31:14, 17.35s/it]"
     ]
    },
    {
     "name": "stdout",
     "output_type": "stream",
     "text": [
      "avg cen for eigen layer 100 is 0.773620764925945, avg acc is 0.6755555555555556\n"
     ]
    },
    {
     "name": "stderr",
     "output_type": "stream",
     "text": [
      " 49%|████▉     | 102/209 [30:02<30:14, 16.96s/it]"
     ]
    },
    {
     "name": "stdout",
     "output_type": "stream",
     "text": [
      "avg cen for eigen layer 101 is 0.9213877347390184, avg acc is 0.5644444444444444\n"
     ]
    },
    {
     "name": "stderr",
     "output_type": "stream",
     "text": [
      " 49%|████▉     | 103/209 [30:19<29:58, 16.97s/it]"
     ]
    },
    {
     "name": "stdout",
     "output_type": "stream",
     "text": [
      "avg cen for eigen layer 102 is 0.9470727136001341, avg acc is 0.6266666666666667\n"
     ]
    },
    {
     "name": "stderr",
     "output_type": "stream",
     "text": [
      " 50%|████▉     | 104/209 [30:36<29:35, 16.91s/it]"
     ]
    },
    {
     "name": "stdout",
     "output_type": "stream",
     "text": [
      "avg cen for eigen layer 103 is 0.9208093037276031, avg acc is 0.6066666666666667\n"
     ]
    },
    {
     "name": "stderr",
     "output_type": "stream",
     "text": [
      " 50%|█████     | 105/209 [30:52<29:01, 16.74s/it]"
     ]
    },
    {
     "name": "stdout",
     "output_type": "stream",
     "text": [
      "avg cen for eigen layer 104 is 0.738688355465594, avg acc is 0.5977777777777777\n"
     ]
    },
    {
     "name": "stderr",
     "output_type": "stream",
     "text": [
      " 51%|█████     | 106/209 [31:22<35:49, 20.87s/it]"
     ]
    },
    {
     "name": "stdout",
     "output_type": "stream",
     "text": [
      "avg cen for eigen layer 105 is 1.1093303118376459, avg acc is 0.651111111111111\n"
     ]
    },
    {
     "name": "stderr",
     "output_type": "stream",
     "text": [
      " 51%|█████     | 107/209 [31:39<33:16, 19.58s/it]"
     ]
    },
    {
     "name": "stdout",
     "output_type": "stream",
     "text": [
      "avg cen for eigen layer 106 is 0.8933580579756115, avg acc is 0.5933333333333333\n"
     ]
    },
    {
     "name": "stderr",
     "output_type": "stream",
     "text": [
      " 52%|█████▏    | 108/209 [31:55<31:24, 18.65s/it]"
     ]
    },
    {
     "name": "stdout",
     "output_type": "stream",
     "text": [
      "avg cen for eigen layer 107 is 0.7456601831569837, avg acc is 0.6955555555555556\n"
     ]
    },
    {
     "name": "stderr",
     "output_type": "stream",
     "text": [
      " 52%|█████▏    | 109/209 [32:12<29:55, 17.96s/it]"
     ]
    },
    {
     "name": "stdout",
     "output_type": "stream",
     "text": [
      "avg cen for eigen layer 108 is 0.885644192775205, avg acc is 0.5888888888888889\n"
     ]
    },
    {
     "name": "stderr",
     "output_type": "stream",
     "text": [
      " 53%|█████▎    | 110/209 [32:28<28:53, 17.51s/it]"
     ]
    },
    {
     "name": "stdout",
     "output_type": "stream",
     "text": [
      "avg cen for eigen layer 109 is 0.8485249840286788, avg acc is 0.671111111111111\n"
     ]
    },
    {
     "name": "stderr",
     "output_type": "stream",
     "text": [
      " 53%|█████▎    | 111/209 [32:45<28:07, 17.22s/it]"
     ]
    },
    {
     "name": "stdout",
     "output_type": "stream",
     "text": [
      "avg cen for eigen layer 110 is 1.0367126967281906, avg acc is 0.5866666666666667\n"
     ]
    },
    {
     "name": "stderr",
     "output_type": "stream",
     "text": [
      " 54%|█████▎    | 112/209 [33:01<27:19, 16.90s/it]"
     ]
    },
    {
     "name": "stdout",
     "output_type": "stream",
     "text": [
      "avg cen for eigen layer 111 is 0.8232932025147448, avg acc is 0.651111111111111\n"
     ]
    },
    {
     "name": "stderr",
     "output_type": "stream",
     "text": [
      " 54%|█████▍    | 113/209 [33:18<26:52, 16.80s/it]"
     ]
    },
    {
     "name": "stdout",
     "output_type": "stream",
     "text": [
      "avg cen for eigen layer 112 is 0.8524728979469935, avg acc is 0.6244444444444445\n"
     ]
    },
    {
     "name": "stderr",
     "output_type": "stream",
     "text": [
      " 55%|█████▍    | 114/209 [33:34<26:40, 16.85s/it]"
     ]
    },
    {
     "name": "stdout",
     "output_type": "stream",
     "text": [
      "avg cen for eigen layer 113 is 0.8811558771569381, avg acc is 0.5733333333333333\n"
     ]
    },
    {
     "name": "stderr",
     "output_type": "stream",
     "text": [
      " 55%|█████▌    | 115/209 [34:03<32:06, 20.49s/it]"
     ]
    },
    {
     "name": "stdout",
     "output_type": "stream",
     "text": [
      "avg cen for eigen layer 114 is 0.7366403557442125, avg acc is 0.742222222222222\n"
     ]
    },
    {
     "name": "stderr",
     "output_type": "stream",
     "text": [
      " 56%|█████▌    | 116/209 [34:20<30:06, 19.43s/it]"
     ]
    },
    {
     "name": "stdout",
     "output_type": "stream",
     "text": [
      "avg cen for eigen layer 115 is 0.8073423603584686, avg acc is 0.651111111111111\n"
     ]
    },
    {
     "name": "stderr",
     "output_type": "stream",
     "text": [
      " 56%|█████▌    | 117/209 [34:37<28:25, 18.53s/it]"
     ]
    },
    {
     "name": "stdout",
     "output_type": "stream",
     "text": [
      "avg cen for eigen layer 116 is 0.8625993221794915, avg acc is 0.5644444444444445\n"
     ]
    },
    {
     "name": "stderr",
     "output_type": "stream",
     "text": [
      " 56%|█████▋    | 118/209 [34:53<27:13, 17.95s/it]"
     ]
    },
    {
     "name": "stdout",
     "output_type": "stream",
     "text": [
      "avg cen for eigen layer 117 is 1.0135873721071982, avg acc is 0.5733333333333334\n"
     ]
    },
    {
     "name": "stderr",
     "output_type": "stream",
     "text": [
      " 57%|█████▋    | 119/209 [35:10<26:28, 17.65s/it]"
     ]
    },
    {
     "name": "stdout",
     "output_type": "stream",
     "text": [
      "avg cen for eigen layer 118 is 0.8549265399544987, avg acc is 0.6799999999999998\n"
     ]
    },
    {
     "name": "stderr",
     "output_type": "stream",
     "text": [
      " 57%|█████▋    | 120/209 [35:27<25:37, 17.28s/it]"
     ]
    },
    {
     "name": "stdout",
     "output_type": "stream",
     "text": [
      "avg cen for eigen layer 119 is 0.8175720976478645, avg acc is 0.6111111111111112\n"
     ]
    },
    {
     "name": "stderr",
     "output_type": "stream",
     "text": [
      " 58%|█████▊    | 121/209 [35:43<24:59, 17.04s/it]"
     ]
    },
    {
     "name": "stdout",
     "output_type": "stream",
     "text": [
      "avg cen for eigen layer 120 is 0.8449192380037909, avg acc is 0.64\n"
     ]
    },
    {
     "name": "stderr",
     "output_type": "stream",
     "text": [
      " 58%|█████▊    | 122/209 [36:00<24:31, 16.91s/it]"
     ]
    },
    {
     "name": "stdout",
     "output_type": "stream",
     "text": [
      "avg cen for eigen layer 121 is 0.9626013618024187, avg acc is 0.5333333333333333\n"
     ]
    },
    {
     "name": "stderr",
     "output_type": "stream",
     "text": [
      " 59%|█████▉    | 123/209 [36:17<24:17, 16.94s/it]"
     ]
    },
    {
     "name": "stdout",
     "output_type": "stream",
     "text": [
      "avg cen for eigen layer 122 is 0.9037952966447453, avg acc is 0.6355555555555555\n"
     ]
    },
    {
     "name": "stderr",
     "output_type": "stream",
     "text": [
      " 59%|█████▉    | 124/209 [36:47<29:26, 20.78s/it]"
     ]
    },
    {
     "name": "stdout",
     "output_type": "stream",
     "text": [
      "avg cen for eigen layer 123 is 0.9519657369910394, avg acc is 0.6888888888888889\n"
     ]
    },
    {
     "name": "stderr",
     "output_type": "stream",
     "text": [
      " 60%|█████▉    | 125/209 [37:03<27:19, 19.52s/it]"
     ]
    },
    {
     "name": "stdout",
     "output_type": "stream",
     "text": [
      "avg cen for eigen layer 124 is 0.8361398092693793, avg acc is 0.64\n"
     ]
    },
    {
     "name": "stderr",
     "output_type": "stream",
     "text": [
      " 60%|██████    | 126/209 [37:20<25:42, 18.59s/it]"
     ]
    },
    {
     "name": "stdout",
     "output_type": "stream",
     "text": [
      "avg cen for eigen layer 125 is 0.8962976641869789, avg acc is 0.591111111111111\n"
     ]
    },
    {
     "name": "stderr",
     "output_type": "stream",
     "text": [
      " 61%|██████    | 127/209 [37:36<24:35, 18.00s/it]"
     ]
    },
    {
     "name": "stdout",
     "output_type": "stream",
     "text": [
      "avg cen for eigen layer 126 is 0.9762091879554659, avg acc is 0.6155555555555555\n"
     ]
    },
    {
     "name": "stderr",
     "output_type": "stream",
     "text": [
      " 61%|██████    | 128/209 [37:53<23:45, 17.60s/it]"
     ]
    },
    {
     "name": "stdout",
     "output_type": "stream",
     "text": [
      "avg cen for eigen layer 127 is 0.9329364275795357, avg acc is 0.6133333333333334\n"
     ]
    },
    {
     "name": "stderr",
     "output_type": "stream",
     "text": [
      " 62%|██████▏   | 129/209 [38:09<22:56, 17.21s/it]"
     ]
    },
    {
     "name": "stdout",
     "output_type": "stream",
     "text": [
      "avg cen for eigen layer 128 is 0.858548795202306, avg acc is 0.6444444444444444\n"
     ]
    },
    {
     "name": "stderr",
     "output_type": "stream",
     "text": [
      " 62%|██████▏   | 130/209 [38:26<22:21, 16.98s/it]"
     ]
    },
    {
     "name": "stdout",
     "output_type": "stream",
     "text": [
      "avg cen for eigen layer 129 is 0.8731127595097363, avg acc is 0.6222222222222222\n"
     ]
    },
    {
     "name": "stderr",
     "output_type": "stream",
     "text": [
      " 63%|██████▎   | 131/209 [38:42<21:55, 16.87s/it]"
     ]
    },
    {
     "name": "stdout",
     "output_type": "stream",
     "text": [
      "avg cen for eigen layer 130 is 0.9557970180941713, avg acc is 0.6022222222222222\n"
     ]
    },
    {
     "name": "stderr",
     "output_type": "stream",
     "text": [
      " 63%|██████▎   | 132/209 [38:59<21:43, 16.93s/it]"
     ]
    },
    {
     "name": "stdout",
     "output_type": "stream",
     "text": [
      "avg cen for eigen layer 131 is 0.824467403916804, avg acc is 0.6533333333333333\n"
     ]
    },
    {
     "name": "stderr",
     "output_type": "stream",
     "text": [
      " 64%|██████▎   | 133/209 [39:30<26:50, 21.19s/it]"
     ]
    },
    {
     "name": "stdout",
     "output_type": "stream",
     "text": [
      "avg cen for eigen layer 132 is 1.0836449130396688, avg acc is 0.6311111111111112\n"
     ]
    },
    {
     "name": "stderr",
     "output_type": "stream",
     "text": [
      " 64%|██████▍   | 134/209 [39:48<25:01, 20.02s/it]"
     ]
    },
    {
     "name": "stdout",
     "output_type": "stream",
     "text": [
      "avg cen for eigen layer 133 is 0.6598539715431275, avg acc is 0.7466666666666666\n"
     ]
    },
    {
     "name": "stderr",
     "output_type": "stream",
     "text": [
      " 65%|██████▍   | 135/209 [40:05<23:43, 19.23s/it]"
     ]
    },
    {
     "name": "stdout",
     "output_type": "stream",
     "text": [
      "avg cen for eigen layer 134 is 0.6643011501682164, avg acc is 0.7511111111111112\n"
     ]
    },
    {
     "name": "stderr",
     "output_type": "stream",
     "text": [
      " 65%|██████▌   | 136/209 [40:23<22:47, 18.73s/it]"
     ]
    },
    {
     "name": "stdout",
     "output_type": "stream",
     "text": [
      "avg cen for eigen layer 135 is 0.7337787367011493, avg acc is 0.7222222222222221\n"
     ]
    },
    {
     "name": "stderr",
     "output_type": "stream",
     "text": [
      " 66%|██████▌   | 137/209 [40:40<22:00, 18.34s/it]"
     ]
    },
    {
     "name": "stdout",
     "output_type": "stream",
     "text": [
      "avg cen for eigen layer 136 is 0.8840189428232006, avg acc is 0.66\n"
     ]
    },
    {
     "name": "stderr",
     "output_type": "stream",
     "text": [
      " 66%|██████▌   | 138/209 [40:57<21:13, 17.94s/it]"
     ]
    },
    {
     "name": "stdout",
     "output_type": "stream",
     "text": [
      "avg cen for eigen layer 137 is 0.8746721694918825, avg acc is 0.62\n"
     ]
    },
    {
     "name": "stderr",
     "output_type": "stream",
     "text": [
      " 67%|██████▋   | 139/209 [41:15<20:46, 17.81s/it]"
     ]
    },
    {
     "name": "stdout",
     "output_type": "stream",
     "text": [
      "avg cen for eigen layer 138 is 0.6238719584624507, avg acc is 0.7155555555555556\n"
     ]
    },
    {
     "name": "stderr",
     "output_type": "stream",
     "text": [
      " 67%|██████▋   | 140/209 [41:32<20:20, 17.69s/it]"
     ]
    },
    {
     "name": "stdout",
     "output_type": "stream",
     "text": [
      "avg cen for eigen layer 139 is 0.6745701958492976, avg acc is 0.7466666666666666\n"
     ]
    },
    {
     "name": "stderr",
     "output_type": "stream",
     "text": [
      " 67%|██████▋   | 141/209 [41:49<19:47, 17.47s/it]"
     ]
    },
    {
     "name": "stdout",
     "output_type": "stream",
     "text": [
      "avg cen for eigen layer 140 is 0.8746821415729427, avg acc is 0.62\n"
     ]
    },
    {
     "name": "stderr",
     "output_type": "stream",
     "text": [
      " 68%|██████▊   | 142/209 [42:06<19:25, 17.39s/it]"
     ]
    },
    {
     "name": "stdout",
     "output_type": "stream",
     "text": [
      "avg cen for eigen layer 141 is 0.9710444940423462, avg acc is 0.6377777777777778\n"
     ]
    },
    {
     "name": "stderr",
     "output_type": "stream",
     "text": [
      " 68%|██████▊   | 143/209 [42:24<19:07, 17.39s/it]"
     ]
    },
    {
     "name": "stdout",
     "output_type": "stream",
     "text": [
      "avg cen for eigen layer 142 is 0.8567865727748982, avg acc is 0.6733333333333331\n"
     ]
    },
    {
     "name": "stderr",
     "output_type": "stream",
     "text": [
      " 69%|██████▉   | 144/209 [42:40<18:38, 17.21s/it]"
     ]
    },
    {
     "name": "stdout",
     "output_type": "stream",
     "text": [
      "avg cen for eigen layer 143 is 0.6788148676287186, avg acc is 0.7288888888888887\n"
     ]
    },
    {
     "name": "stderr",
     "output_type": "stream",
     "text": [
      " 69%|██████▉   | 145/209 [43:11<22:39, 21.24s/it]"
     ]
    },
    {
     "name": "stdout",
     "output_type": "stream",
     "text": [
      "avg cen for eigen layer 144 is 1.012457015080003, avg acc is 0.6733333333333333\n"
     ]
    },
    {
     "name": "stderr",
     "output_type": "stream",
     "text": [
      " 70%|██████▉   | 146/209 [43:28<21:00, 20.02s/it]"
     ]
    },
    {
     "name": "stdout",
     "output_type": "stream",
     "text": [
      "avg cen for eigen layer 145 is 0.9444034938981106, avg acc is 0.5311111111111111\n"
     ]
    },
    {
     "name": "stderr",
     "output_type": "stream",
     "text": [
      " 70%|███████   | 147/209 [43:45<19:48, 19.16s/it]"
     ]
    },
    {
     "name": "stdout",
     "output_type": "stream",
     "text": [
      "avg cen for eigen layer 146 is 0.7139835583322633, avg acc is 0.6866666666666665\n"
     ]
    },
    {
     "name": "stderr",
     "output_type": "stream",
     "text": [
      " 71%|███████   | 148/209 [44:03<18:55, 18.62s/it]"
     ]
    },
    {
     "name": "stdout",
     "output_type": "stream",
     "text": [
      "avg cen for eigen layer 147 is 0.7095396507978684, avg acc is 0.7177777777777776\n"
     ]
    },
    {
     "name": "stderr",
     "output_type": "stream",
     "text": [
      " 71%|███████▏  | 149/209 [44:21<18:22, 18.37s/it]"
     ]
    },
    {
     "name": "stdout",
     "output_type": "stream",
     "text": [
      "avg cen for eigen layer 148 is 0.8403679680785366, avg acc is 0.7133333333333333\n"
     ]
    },
    {
     "name": "stderr",
     "output_type": "stream",
     "text": [
      " 72%|███████▏  | 150/209 [44:38<17:45, 18.06s/it]"
     ]
    },
    {
     "name": "stdout",
     "output_type": "stream",
     "text": [
      "avg cen for eigen layer 149 is 0.7748685797085106, avg acc is 0.691111111111111\n"
     ]
    },
    {
     "name": "stderr",
     "output_type": "stream",
     "text": [
      " 72%|███████▏  | 151/209 [44:55<17:16, 17.87s/it]"
     ]
    },
    {
     "name": "stdout",
     "output_type": "stream",
     "text": [
      "avg cen for eigen layer 150 is 0.9216255711124813, avg acc is 0.6133333333333334\n"
     ]
    },
    {
     "name": "stderr",
     "output_type": "stream",
     "text": [
      " 73%|███████▎  | 152/209 [45:12<16:35, 17.47s/it]"
     ]
    },
    {
     "name": "stdout",
     "output_type": "stream",
     "text": [
      "avg cen for eigen layer 151 is 0.7582412645608091, avg acc is 0.651111111111111\n"
     ]
    },
    {
     "name": "stderr",
     "output_type": "stream",
     "text": [
      " 73%|███████▎  | 153/209 [45:28<16:04, 17.22s/it]"
     ]
    },
    {
     "name": "stdout",
     "output_type": "stream",
     "text": [
      "avg cen for eigen layer 152 is 0.8050428040293106, avg acc is 0.6955555555555555\n"
     ]
    },
    {
     "name": "stderr",
     "output_type": "stream",
     "text": [
      " 74%|███████▎  | 154/209 [45:58<19:10, 20.92s/it]"
     ]
    },
    {
     "name": "stdout",
     "output_type": "stream",
     "text": [
      "avg cen for eigen layer 153 is 0.8490976074408125, avg acc is 0.7288888888888888\n"
     ]
    },
    {
     "name": "stderr",
     "output_type": "stream",
     "text": [
      " 74%|███████▍  | 155/209 [46:15<17:41, 19.66s/it]"
     ]
    },
    {
     "name": "stdout",
     "output_type": "stream",
     "text": [
      "avg cen for eigen layer 154 is 0.7134936823492629, avg acc is 0.7133333333333332\n"
     ]
    },
    {
     "name": "stderr",
     "output_type": "stream",
     "text": [
      " 75%|███████▍  | 156/209 [46:31<16:28, 18.64s/it]"
     ]
    },
    {
     "name": "stdout",
     "output_type": "stream",
     "text": [
      "avg cen for eigen layer 155 is 0.7682866240049513, avg acc is 0.6999999999999998\n"
     ]
    },
    {
     "name": "stderr",
     "output_type": "stream",
     "text": [
      " 75%|███████▌  | 157/209 [46:48<15:39, 18.07s/it]"
     ]
    },
    {
     "name": "stdout",
     "output_type": "stream",
     "text": [
      "avg cen for eigen layer 156 is 0.9200176472751308, avg acc is 0.6266666666666667\n"
     ]
    },
    {
     "name": "stderr",
     "output_type": "stream",
     "text": [
      " 76%|███████▌  | 158/209 [47:04<14:56, 17.57s/it]"
     ]
    },
    {
     "name": "stdout",
     "output_type": "stream",
     "text": [
      "avg cen for eigen layer 157 is 0.9155370853966504, avg acc is 0.6444444444444444\n"
     ]
    },
    {
     "name": "stderr",
     "output_type": "stream",
     "text": [
      " 76%|███████▌  | 159/209 [47:21<14:21, 17.24s/it]"
     ]
    },
    {
     "name": "stdout",
     "output_type": "stream",
     "text": [
      "avg cen for eigen layer 158 is 0.7724804866428018, avg acc is 0.6555555555555556\n"
     ]
    },
    {
     "name": "stderr",
     "output_type": "stream",
     "text": [
      " 77%|███████▋  | 160/209 [47:38<14:00, 17.16s/it]"
     ]
    },
    {
     "name": "stdout",
     "output_type": "stream",
     "text": [
      "avg cen for eigen layer 159 is 0.7756652253322532, avg acc is 0.7\n"
     ]
    },
    {
     "name": "stderr",
     "output_type": "stream",
     "text": [
      " 77%|███████▋  | 161/209 [47:54<13:38, 17.05s/it]"
     ]
    },
    {
     "name": "stdout",
     "output_type": "stream",
     "text": [
      "avg cen for eigen layer 160 is 0.6673453436693972, avg acc is 0.7133333333333332\n"
     ]
    },
    {
     "name": "stderr",
     "output_type": "stream",
     "text": [
      " 78%|███████▊  | 162/209 [48:11<13:20, 17.04s/it]"
     ]
    },
    {
     "name": "stdout",
     "output_type": "stream",
     "text": [
      "avg cen for eigen layer 161 is 0.8736830785337492, avg acc is 0.6844444444444444\n"
     ]
    },
    {
     "name": "stderr",
     "output_type": "stream",
     "text": [
      " 78%|███████▊  | 163/209 [48:29<13:04, 17.06s/it]"
     ]
    },
    {
     "name": "stdout",
     "output_type": "stream",
     "text": [
      "avg cen for eigen layer 162 is 1.0604589808160154, avg acc is 0.5844444444444445\n"
     ]
    },
    {
     "name": "stderr",
     "output_type": "stream",
     "text": [
      " 78%|███████▊  | 164/209 [48:45<12:44, 16.98s/it]"
     ]
    },
    {
     "name": "stdout",
     "output_type": "stream",
     "text": [
      "avg cen for eigen layer 163 is 0.8044763896319409, avg acc is 0.6844444444444444\n"
     ]
    },
    {
     "name": "stderr",
     "output_type": "stream",
     "text": [
      " 79%|███████▉  | 165/209 [49:02<12:26, 16.96s/it]"
     ]
    },
    {
     "name": "stdout",
     "output_type": "stream",
     "text": [
      "avg cen for eigen layer 164 is 0.8267787923812651, avg acc is 0.7088888888888887\n"
     ]
    },
    {
     "name": "stderr",
     "output_type": "stream",
     "text": [
      " 79%|███████▉  | 166/209 [49:19<12:03, 16.83s/it]"
     ]
    },
    {
     "name": "stdout",
     "output_type": "stream",
     "text": [
      "avg cen for eigen layer 165 is 1.0076469649964124, avg acc is 0.5911111111111111\n"
     ]
    },
    {
     "name": "stderr",
     "output_type": "stream",
     "text": [
      " 80%|███████▉  | 167/209 [49:36<11:46, 16.83s/it]"
     ]
    },
    {
     "name": "stdout",
     "output_type": "stream",
     "text": [
      "avg cen for eigen layer 166 is 0.7050180587056074, avg acc is 0.7555555555555554\n"
     ]
    },
    {
     "name": "stderr",
     "output_type": "stream",
     "text": [
      " 80%|████████  | 168/209 [49:52<11:27, 16.76s/it]"
     ]
    },
    {
     "name": "stdout",
     "output_type": "stream",
     "text": [
      "avg cen for eigen layer 167 is 0.9984085203129192, avg acc is 0.6355555555555555\n"
     ]
    },
    {
     "name": "stderr",
     "output_type": "stream",
     "text": [
      " 81%|████████  | 169/209 [50:09<11:10, 16.77s/it]"
     ]
    },
    {
     "name": "stdout",
     "output_type": "stream",
     "text": [
      "avg cen for eigen layer 168 is 0.9997379341443934, avg acc is 0.5977777777777777\n"
     ]
    },
    {
     "name": "stderr",
     "output_type": "stream",
     "text": [
      " 81%|████████▏ | 170/209 [50:25<10:50, 16.69s/it]"
     ]
    },
    {
     "name": "stdout",
     "output_type": "stream",
     "text": [
      "avg cen for eigen layer 169 is 0.63976037975694, avg acc is 0.7755555555555554\n"
     ]
    },
    {
     "name": "stderr",
     "output_type": "stream",
     "text": [
      " 82%|████████▏ | 171/209 [50:42<10:32, 16.65s/it]"
     ]
    },
    {
     "name": "stdout",
     "output_type": "stream",
     "text": [
      "avg cen for eigen layer 170 is 0.8720164147964, avg acc is 0.6222222222222222\n"
     ]
    },
    {
     "name": "stderr",
     "output_type": "stream",
     "text": [
      " 82%|████████▏ | 172/209 [51:10<12:26, 20.17s/it]"
     ]
    },
    {
     "name": "stdout",
     "output_type": "stream",
     "text": [
      "avg cen for eigen layer 171 is 1.0334888303869068, avg acc is 0.6377777777777779\n"
     ]
    },
    {
     "name": "stderr",
     "output_type": "stream",
     "text": [
      " 83%|████████▎ | 173/209 [51:27<11:28, 19.11s/it]"
     ]
    },
    {
     "name": "stdout",
     "output_type": "stream",
     "text": [
      "avg cen for eigen layer 172 is 0.8396992202719712, avg acc is 0.6511111111111112\n"
     ]
    },
    {
     "name": "stderr",
     "output_type": "stream",
     "text": [
      " 83%|████████▎ | 174/209 [51:43<10:38, 18.25s/it]"
     ]
    },
    {
     "name": "stdout",
     "output_type": "stream",
     "text": [
      "avg cen for eigen layer 173 is 0.8776202301658185, avg acc is 0.6377777777777778\n"
     ]
    },
    {
     "name": "stderr",
     "output_type": "stream",
     "text": [
      " 84%|████████▎ | 175/209 [52:12<12:06, 21.36s/it]"
     ]
    },
    {
     "name": "stdout",
     "output_type": "stream",
     "text": [
      "avg cen for eigen layer 174 is 0.8845759556593265, avg acc is 0.6733333333333333\n"
     ]
    },
    {
     "name": "stderr",
     "output_type": "stream",
     "text": [
      " 84%|████████▍ | 176/209 [52:29<10:58, 19.96s/it]"
     ]
    },
    {
     "name": "stdout",
     "output_type": "stream",
     "text": [
      "avg cen for eigen layer 175 is 0.7689379014065032, avg acc is 0.7066666666666667\n"
     ]
    },
    {
     "name": "stderr",
     "output_type": "stream",
     "text": [
      " 85%|████████▍ | 177/209 [52:45<10:07, 18.98s/it]"
     ]
    },
    {
     "name": "stdout",
     "output_type": "stream",
     "text": [
      "avg cen for eigen layer 176 is 0.9580602274333238, avg acc is 0.6044444444444445\n"
     ]
    },
    {
     "name": "stderr",
     "output_type": "stream",
     "text": [
      " 85%|████████▌ | 178/209 [53:14<11:15, 21.78s/it]"
     ]
    },
    {
     "name": "stdout",
     "output_type": "stream",
     "text": [
      "avg cen for eigen layer 177 is 0.9197387575904312, avg acc is 0.6333333333333333\n"
     ]
    },
    {
     "name": "stderr",
     "output_type": "stream",
     "text": [
      " 86%|████████▌ | 179/209 [53:30<10:08, 20.27s/it]"
     ]
    },
    {
     "name": "stdout",
     "output_type": "stream",
     "text": [
      "avg cen for eigen layer 178 is 0.7898741486751456, avg acc is 0.7022222222222222\n"
     ]
    },
    {
     "name": "stderr",
     "output_type": "stream",
     "text": [
      " 86%|████████▌ | 180/209 [53:47<09:13, 19.09s/it]"
     ]
    },
    {
     "name": "stdout",
     "output_type": "stream",
     "text": [
      "avg cen for eigen layer 179 is 1.0342914304031205, avg acc is 0.5599999999999999\n"
     ]
    },
    {
     "name": "stderr",
     "output_type": "stream",
     "text": [
      " 87%|████████▋ | 181/209 [54:16<10:19, 22.12s/it]"
     ]
    },
    {
     "name": "stdout",
     "output_type": "stream",
     "text": [
      "avg cen for eigen layer 180 is 0.7541395962168942, avg acc is 0.7022222222222222\n"
     ]
    },
    {
     "name": "stderr",
     "output_type": "stream",
     "text": [
      " 87%|████████▋ | 182/209 [54:32<09:11, 20.42s/it]"
     ]
    },
    {
     "name": "stdout",
     "output_type": "stream",
     "text": [
      "avg cen for eigen layer 181 is 0.682383231178916, avg acc is 0.7444444444444446\n"
     ]
    },
    {
     "name": "stderr",
     "output_type": "stream",
     "text": [
      " 88%|████████▊ | 183/209 [54:49<08:21, 19.31s/it]"
     ]
    },
    {
     "name": "stdout",
     "output_type": "stream",
     "text": [
      "avg cen for eigen layer 182 is 0.9209884462834091, avg acc is 0.6444444444444444\n"
     ]
    },
    {
     "name": "stderr",
     "output_type": "stream",
     "text": [
      " 88%|████████▊ | 184/209 [55:18<09:17, 22.29s/it]"
     ]
    },
    {
     "name": "stdout",
     "output_type": "stream",
     "text": [
      "avg cen for eigen layer 183 is 0.9088007640104074, avg acc is 0.6733333333333333\n"
     ]
    },
    {
     "name": "stderr",
     "output_type": "stream",
     "text": [
      " 89%|████████▊ | 185/209 [55:35<08:16, 20.71s/it]"
     ]
    },
    {
     "name": "stdout",
     "output_type": "stream",
     "text": [
      "avg cen for eigen layer 184 is 0.6993096980405511, avg acc is 0.6755555555555556\n"
     ]
    },
    {
     "name": "stderr",
     "output_type": "stream",
     "text": [
      " 89%|████████▉ | 186/209 [56:06<09:05, 23.72s/it]"
     ]
    },
    {
     "name": "stdout",
     "output_type": "stream",
     "text": [
      "avg cen for eigen layer 185 is 0.7909486763306908, avg acc is 0.7511111111111112\n"
     ]
    },
    {
     "name": "stderr",
     "output_type": "stream",
     "text": [
      " 89%|████████▉ | 187/209 [56:23<07:56, 21.67s/it]"
     ]
    },
    {
     "name": "stdout",
     "output_type": "stream",
     "text": [
      "avg cen for eigen layer 186 is 0.7169162396903086, avg acc is 0.7222222222222221\n"
     ]
    },
    {
     "name": "stderr",
     "output_type": "stream",
     "text": [
      " 90%|████████▉ | 188/209 [56:40<07:06, 20.29s/it]"
     ]
    },
    {
     "name": "stdout",
     "output_type": "stream",
     "text": [
      "avg cen for eigen layer 187 is 0.6893675188438202, avg acc is 0.7888888888888888\n"
     ]
    },
    {
     "name": "stderr",
     "output_type": "stream",
     "text": [
      " 90%|█████████ | 189/209 [56:56<06:22, 19.10s/it]"
     ]
    },
    {
     "name": "stdout",
     "output_type": "stream",
     "text": [
      "avg cen for eigen layer 188 is 0.8775305639857843, avg acc is 0.5977777777777777\n"
     ]
    },
    {
     "name": "stderr",
     "output_type": "stream",
     "text": [
      " 91%|█████████ | 190/209 [57:13<05:47, 18.29s/it]"
     ]
    },
    {
     "name": "stdout",
     "output_type": "stream",
     "text": [
      "avg cen for eigen layer 189 is 0.7827609754479568, avg acc is 0.6688888888888888\n"
     ]
    },
    {
     "name": "stderr",
     "output_type": "stream",
     "text": [
      " 91%|█████████▏| 191/209 [57:29<05:19, 17.72s/it]"
     ]
    },
    {
     "name": "stdout",
     "output_type": "stream",
     "text": [
      "avg cen for eigen layer 190 is 0.8461247409405871, avg acc is 0.6311111111111112\n"
     ]
    },
    {
     "name": "stderr",
     "output_type": "stream",
     "text": [
      " 92%|█████████▏| 192/209 [57:58<06:00, 21.20s/it]"
     ]
    },
    {
     "name": "stdout",
     "output_type": "stream",
     "text": [
      "avg cen for eigen layer 191 is 0.8225543448634801, avg acc is 0.7088888888888889\n"
     ]
    },
    {
     "name": "stderr",
     "output_type": "stream",
     "text": [
      " 92%|█████████▏| 193/209 [58:15<05:17, 19.85s/it]"
     ]
    },
    {
     "name": "stdout",
     "output_type": "stream",
     "text": [
      "avg cen for eigen layer 192 is 0.8426237202091422, avg acc is 0.6466666666666667\n"
     ]
    },
    {
     "name": "stderr",
     "output_type": "stream",
     "text": [
      " 93%|█████████▎| 194/209 [58:32<04:42, 18.83s/it]"
     ]
    },
    {
     "name": "stdout",
     "output_type": "stream",
     "text": [
      "avg cen for eigen layer 193 is 0.9576773386787686, avg acc is 0.5777777777777778\n"
     ]
    },
    {
     "name": "stderr",
     "output_type": "stream",
     "text": [
      " 93%|█████████▎| 195/209 [59:01<05:08, 22.00s/it]"
     ]
    },
    {
     "name": "stdout",
     "output_type": "stream",
     "text": [
      "avg cen for eigen layer 194 is 0.9356931257457964, avg acc is 0.6577777777777777\n"
     ]
    },
    {
     "name": "stderr",
     "output_type": "stream",
     "text": [
      " 94%|█████████▍| 196/209 [59:18<04:26, 20.48s/it]"
     ]
    },
    {
     "name": "stdout",
     "output_type": "stream",
     "text": [
      "avg cen for eigen layer 195 is 0.7412887221741493, avg acc is 0.6866666666666668\n"
     ]
    },
    {
     "name": "stderr",
     "output_type": "stream",
     "text": [
      " 94%|█████████▍| 197/209 [59:34<03:51, 19.28s/it]"
     ]
    },
    {
     "name": "stdout",
     "output_type": "stream",
     "text": [
      "avg cen for eigen layer 196 is 0.9255298961088375, avg acc is 0.5911111111111111\n"
     ]
    },
    {
     "name": "stderr",
     "output_type": "stream",
     "text": [
      " 95%|█████████▍| 198/209 [1:00:04<04:06, 22.40s/it]"
     ]
    },
    {
     "name": "stdout",
     "output_type": "stream",
     "text": [
      "avg cen for eigen layer 197 is 1.006371558584746, avg acc is 0.6777777777777777\n"
     ]
    },
    {
     "name": "stderr",
     "output_type": "stream",
     "text": [
      " 95%|█████████▌| 199/209 [1:00:21<03:26, 20.67s/it]"
     ]
    },
    {
     "name": "stdout",
     "output_type": "stream",
     "text": [
      "avg cen for eigen layer 198 is 0.8209680170761099, avg acc is 0.6844444444444444\n"
     ]
    },
    {
     "name": "stderr",
     "output_type": "stream",
     "text": [
      " 96%|█████████▌| 200/209 [1:00:37<02:54, 19.40s/it]"
     ]
    },
    {
     "name": "stdout",
     "output_type": "stream",
     "text": [
      "avg cen for eigen layer 199 is 0.9687769732403059, avg acc is 0.5955555555555556\n"
     ]
    },
    {
     "name": "stderr",
     "output_type": "stream",
     "text": [
      " 96%|█████████▌| 201/209 [1:01:08<03:02, 22.77s/it]"
     ]
    },
    {
     "name": "stdout",
     "output_type": "stream",
     "text": [
      "avg cen for eigen layer 200 is 1.0013834672467588, avg acc is 0.6844444444444444\n"
     ]
    },
    {
     "name": "stderr",
     "output_type": "stream",
     "text": [
      " 97%|█████████▋| 202/209 [1:01:24<02:25, 20.81s/it]"
     ]
    },
    {
     "name": "stdout",
     "output_type": "stream",
     "text": [
      "avg cen for eigen layer 201 is 0.7104618515551105, avg acc is 0.7155555555555554\n"
     ]
    },
    {
     "name": "stderr",
     "output_type": "stream",
     "text": [
      " 97%|█████████▋| 203/209 [1:01:41<01:57, 19.55s/it]"
     ]
    },
    {
     "name": "stdout",
     "output_type": "stream",
     "text": [
      "avg cen for eigen layer 202 is 0.8485363994921226, avg acc is 0.7199999999999999\n"
     ]
    },
    {
     "name": "stderr",
     "output_type": "stream",
     "text": [
      " 98%|█████████▊| 204/209 [1:01:58<01:33, 18.74s/it]"
     ]
    },
    {
     "name": "stdout",
     "output_type": "stream",
     "text": [
      "avg cen for eigen layer 203 is 0.8343407769328499, avg acc is 0.6866666666666665\n"
     ]
    },
    {
     "name": "stderr",
     "output_type": "stream",
     "text": [
      " 98%|█████████▊| 205/209 [1:02:14<01:12, 18.10s/it]"
     ]
    },
    {
     "name": "stdout",
     "output_type": "stream",
     "text": [
      "avg cen for eigen layer 204 is 0.8552996923523115, avg acc is 0.6577777777777777\n"
     ]
    },
    {
     "name": "stderr",
     "output_type": "stream",
     "text": [
      " 99%|█████████▊| 206/209 [1:02:31<00:53, 17.74s/it]"
     ]
    },
    {
     "name": "stdout",
     "output_type": "stream",
     "text": [
      "avg cen for eigen layer 205 is 0.9756866925829368, avg acc is 0.5888888888888889\n"
     ]
    },
    {
     "name": "stderr",
     "output_type": "stream",
     "text": [
      " 99%|█████████▉| 207/209 [1:02:48<00:34, 17.43s/it]"
     ]
    },
    {
     "name": "stdout",
     "output_type": "stream",
     "text": [
      "avg cen for eigen layer 206 is 1.0364781991694898, avg acc is 0.5155555555555555\n"
     ]
    },
    {
     "name": "stderr",
     "output_type": "stream",
     "text": [
      "100%|█████████▉| 208/209 [1:03:04<00:17, 17.20s/it]"
     ]
    },
    {
     "name": "stdout",
     "output_type": "stream",
     "text": [
      "avg cen for eigen layer 207 is 0.990756603903442, avg acc is 0.6444444444444444\n"
     ]
    },
    {
     "name": "stderr",
     "output_type": "stream",
     "text": [
      "100%|██████████| 209/209 [1:03:21<00:00, 18.19s/it]"
     ]
    },
    {
     "name": "stdout",
     "output_type": "stream",
     "text": [
      "avg cen for eigen layer 208 is 0.7383354487109705, avg acc is 0.7177777777777776\n"
     ]
    },
    {
     "name": "stderr",
     "output_type": "stream",
     "text": [
      "\n"
     ]
    }
   ],
   "source": [
    "for e_range in tqdm(range(len(weight_range)-1)):\n",
    "    s, e = e_range, e_range+1\n",
    "    eigen_len_range = [weight_range[s], weight_range[e]]\n",
    "    cen, acc = bootstrap_performance(np.asarray(X[key])[:, eigen_len_range[0]:eigen_len_range[1]], np.asarray(y[key]), clf, n=50)\n",
    "    cens.append(cen)\n",
    "    accs.append(acc)\n",
    "    print(f'avg cen for eigen layer {s} is {np.mean(cen)}, avg acc is {np.mean(acc)}')"
   ]
  },
  {
   "cell_type": "code",
   "execution_count": 36,
   "metadata": {},
   "outputs": [
    {
     "name": "stderr",
     "output_type": "stream",
     "text": [
      "/tmp/ipykernel_172422/3193463730.py:16: MatplotlibDeprecationWarning: mplDeprecation was deprecated in Matplotlib 3.6 and will be removed two minor releases later. Use matplotlib.MatplotlibDeprecationWarning instead.\n",
      "  warnings.filterwarnings(\"ignore\",category=matplotlib.cbook.mplDeprecation)\n"
     ]
    }
   ],
   "source": [
    "import matplotlib as mpl\n",
    "params = {'axes.labelsize': 20,\n",
    "         'axes.titlesize':20,\n",
    "         'xtick.labelsize':12,\n",
    "         'ytick.labelsize':15,\n",
    "         'axes.titlepad': 1,\n",
    "         'axes.labelpad': 1,\n",
    "         'axes.grid': True,\n",
    "          'legend.fontsize': 15\n",
    "    }\n",
    "mpl.rcParams.update(params)\n",
    "import random\n",
    "from mpl_toolkits.axes_grid1 import make_axes_locatable\n",
    "import warnings\n",
    "import matplotlib.cbook\n",
    "warnings.filterwarnings(\"ignore\",category=matplotlib.cbook.mplDeprecation)\n",
    "from mpl_toolkits.axes_grid1 import make_axes_locatable\n",
    "from matplotlib.colors import LinearSegmentedColormap\n",
    "import matplotlib.font_manager\n",
    "import seaborn as sns\n",
    "c = 'coral'\n",
    "c1 = 'yellowgreen'\n",
    "base_c = 'aqua'\n",
    "plt.rcParams['text.usetex'] = False\n",
    "sns.set(style=\"ticks\")\n",
    "# plt.rc('font', family='serif')\n",
    "# plt.rc('font', serif='Times New Roman')\n",
    "yaxisfont=45\n",
    "bigfont = 27 + 5\n",
    "medfont = 15\n",
    "smallfont = 17\n",
    "plt.rcParams['xtick.labelsize']=medfont\n",
    "plt.rcParams['ytick.labelsize']=medfont\n",
    "plt.rcParams['axes.titlesize']=medfont\n",
    "plt.rcParams[\"font.family\"] = 'Bitstream Vera Serif'\n",
    "# sns.set_style('ticks', {'font.family':'serif', 'font.serif':'Times New Roman', 'font.size': 16})\n",
    "sns.set_palette(\"muted\")\n",
    "ticks_fontsize = 18\n",
    "label_fontsize = 20\n",
    "cbar_fontsize = 18"
   ]
  },
  {
   "cell_type": "code",
   "execution_count": 37,
   "metadata": {},
   "outputs": [
    {
     "data": {
      "image/png": "[encoded data removed]",
      "text/plain": [
       "<Figure size 4200x600 with 1 Axes>"
      ]
     },
     "metadata": {},
     "output_type": "display_data"
    }
   ],
   "source": [
    "fig, ax = plt.subplots(figsize=(42, 6))\n",
    "plt.boxplot(cens);\n",
    "ax.set_title(f'{key} model weight stats vs layer in cross entropy');\n",
    "ax.set_xlabel('layer');\n",
    "ax.set_ylabel('cross entropy value');"
   ]
  },
  {
   "cell_type": "code",
   "execution_count": 38,
   "metadata": {},
   "outputs": [
    {
     "data": {
      "image/png": "[encoded data removed]",
      "text/plain": [
       "<Figure size 4200x600 with 1 Axes>"
      ]
     },
     "metadata": {},
     "output_type": "display_data"
    }
   ],
   "source": [
    "fig, ax = plt.subplots(figsize=(42, 6))\n",
    "plt.boxplot(accs);\n",
    "ax.set_title(f'{key} model weight stats vs layer in accuracy');\n",
    "ax.set_xlabel('layer');\n",
    "ax.set_ylabel('accuracy value');"
   ]
  },
  {
   "cell_type": "code",
   "execution_count": 34,
   "metadata": {},
   "outputs": [],
   "source": [
    "mean_cens, mean_accs = np.mean(cens, axis=-1), np.mean(accs, axis=-1)"
   ]
  },
  {
   "cell_type": "code",
   "execution_count": 39,
   "metadata": {},
   "outputs": [
    {
     "data": {
      "text/plain": [
       "(array([ 68, 138, 169,  25, 133, 134, 160, 139, 143, 181, 187,  61, 184,\n",
       "         28, 166, 147, 201, 154, 146,   4]),\n",
       " array([187, 169, 166,  28, 185, 134,  90, 133, 139, 181,  68, 114, 153,\n",
       "        143,   6,   7,   4, 186, 135, 202]))"
      ]
     },
     "execution_count": 39,
     "metadata": {},
     "output_type": "execute_result"
    }
   ],
   "source": [
    "np.argsort(mean_cens)[:20], np.argsort(mean_accs)[::-1][:20]"
   ]
  },
  {
   "cell_type": "code",
   "execution_count": 45,
   "metadata": {},
   "outputs": [
    {
     "data": {
      "image/png": "[encoded data removed]",
      "text/plain": [
       "<Figure size 1600x600 with 1 Axes>"
      ]
     },
     "metadata": {},
     "output_type": "display_data"
    }
   ],
   "source": [
    "fig, axs = plt.subplots(figsize=(16, 6))\n",
    "plt_X, plt_y = np.asarray(X[key]), np.asarray(y[key])\n",
    "arr_poisoned = np.asarray(plt_X)[plt_y, eigen_len_range[0]:eigen_len_range[1]]\n",
    "arr_clean = np.asarray(plt_X)[np.logical_not(plt_y), eigen_len_range[0]:eigen_len_range[1]]\n",
    "ncol = arr_poisoned.shape[-1]*2\n",
    "bar1 = axs.boxplot(arr_poisoned, positions=range(0, ncol, 2))\n",
    "bar2 = axs.boxplot(arr_clean, positions=range(1, ncol, 2))"
   ]
  },
  {
   "cell_type": "code",
   "execution_count": 20,
   "metadata": {},
   "outputs": [],
   "source": [
    "gb_df = METADATA.groupby(['model_architecture', 'poisoned', 'source_dataset_background_level']).apply(lambda x: x.index.tolist())"
   ]
  },
  {
   "cell_type": "code",
   "execution_count": 10,
   "metadata": {},
   "outputs": [
    {
     "data": {
      "text/plain": [
       "model_architecture                           poisoned  source_dataset_background_level\n",
       "object_detection:detr                        False     0                                         [9, 23, 30, 37, 40, 45, 58, 65]\n",
       "                                                       1                                          [1, 5, 10, 17, 20, 25, 39, 41]\n",
       "                                             True      0                                     [60, 64, 67, 68, 73, 100, 107, 109]\n",
       "                                                       1                                             [2, 31, 46, 76, 77, 97, 99]\n",
       "object_detection:fasterrcnn_resnet50_fpn_v2  False     0                                         [3, 14, 26, 38, 48, 50, 52, 59]\n",
       "                                                       1                                         [8, 13, 18, 22, 55, 56, 57, 63]\n",
       "                                                       2                                       [78, 80, 85, 86, 87, 88, 89, 104]\n",
       "                                             True      0                                               [21, 32, 49, 75, 98, 115]\n",
       "                                                       1                                                    [11, 61, 70, 91, 95]\n",
       "                                                       2                                  [94, 96, 103, 105, 106, 108, 113, 116]\n",
       "object_detection:ssd300_vgg16                False     0                                          [0, 6, 15, 28, 34, 53, 54, 62]\n",
       "                                                       1                                         [4, 16, 19, 27, 29, 36, 42, 47]\n",
       "                                                       2                                                   [81, 83, 92, 93, 102]\n",
       "                                             True      0                                            [12, 24, 35, 51, 66, 72, 79]\n",
       "                                                       1                                             [7, 33, 43, 44, 69, 71, 74]\n",
       "                                                       2                                   [82, 84, 90, 101, 110, 111, 112, 114]\n",
       "dtype: object"
      ]
     },
     "execution_count": 10,
     "metadata": {},
     "output_type": "execute_result"
    }
   ],
   "source": [
    "gb_df"
   ]
  },
  {
   "cell_type": "code",
   "execution_count": 7,
   "metadata": {},
   "outputs": [],
   "source": [
    "X = np.asarray(X)"
   ]
  },
  {
   "cell_type": "code",
   "execution_count": 8,
   "metadata": {},
   "outputs": [
    {
     "data": {
      "text/plain": [
       "(117, 10)"
      ]
     },
     "execution_count": 8,
     "metadata": {},
     "output_type": "execute_result"
    }
   ],
   "source": [
    "X.shape"
   ]
  },
  {
   "cell_type": "code",
   "execution_count": 18,
   "metadata": {},
   "outputs": [
    {
     "data": {
      "image/png": "[encoded data removed]",
      "text/plain": [
       "<Figure size 640x480 with 1 Axes>"
      ]
     },
     "metadata": {},
     "output_type": "display_data"
    }
   ],
   "source": [
    "plt.boxplot(X[[81, 83, 92, 93, 102]]);"
   ]
  },
  {
   "cell_type": "code",
   "execution_count": 19,
   "metadata": {},
   "outputs": [
    {
     "data": {
      "image/png": "[encoded data removed]",
      "text/plain": [
       "<Figure size 640x480 with 1 Axes>"
      ]
     },
     "metadata": {},
     "output_type": "display_data"
    }
   ],
   "source": [
    "plt.boxplot(X[[82, 84, 90, 101, 110, 111, 112, 114]]);"
   ]
  },
  {
   "cell_type": "code",
   "execution_count": 129,
   "metadata": {},
   "outputs": [],
   "source": [
    "dota_clean_inds, dota_poisoned_inds = [78, 80, 85, 86, 87, 88, 89, 104], [94, 96, 103, 105, 106, 108, 113, 116]"
   ]
  },
  {
   "cell_type": "code",
   "execution_count": 68,
   "metadata": {},
   "outputs": [],
   "source": [
    "ssd_inds = METADATA[METADATA['model_architecture'] == 'object_detection:ssd300_vgg16'].index.tolist()"
   ]
  },
  {
   "cell_type": "code",
   "execution_count": 71,
   "metadata": {},
   "outputs": [],
   "source": [
    "ssd_inds_dict = {ssd_ind:i for i, ssd_ind in enumerate(ssd_inds)}"
   ]
  },
  {
   "cell_type": "code",
   "execution_count": 111,
   "metadata": {},
   "outputs": [],
   "source": [
    "inds_in_meta = [[0, 6, 15, 28, 34, 53, 54, 62], [4, 16, 19, 27, 29, 36, 42, 47], [81, 83, 92, 93, 102]]"
   ]
  },
  {
   "cell_type": "code",
   "execution_count": 114,
   "metadata": {},
   "outputs": [],
   "source": [
    "inds_in_meta = [[12, 24, 35, 51, 66, 72, 79], [7, 33, 43, 44, 69, 71, 74], [82, 84, 90, 101, 110, 111, 112, 114]]"
   ]
  },
  {
   "cell_type": "code",
   "execution_count": 115,
   "metadata": {},
   "outputs": [],
   "source": [
    "inds_in_dict = []\n",
    "for ind_in_meta in inds_in_meta:\n",
    "    inds = []\n",
    "    for ind in ind_in_meta:\n",
    "        inds.append(ssd_inds_dict[ind])\n",
    "    inds_in_dict.append(inds)"
   ]
  },
  {
   "cell_type": "code",
   "execution_count": 116,
   "metadata": {},
   "outputs": [
    {
     "data": {
      "text/plain": [
       "[[4, 8, 14, 20, 24, 27, 29],\n",
       " [3, 12, 17, 18, 25, 26, 28],\n",
       " [31, 33, 34, 37, 39, 40, 41, 42]]"
      ]
     },
     "execution_count": 116,
     "metadata": {},
     "output_type": "execute_result"
    }
   ],
   "source": [
    "inds_in_dict"
   ]
  },
  {
   "cell_type": "code",
   "execution_count": 107,
   "metadata": {},
   "outputs": [
    {
     "data": {
      "text/plain": [
       "[array([10156.62988281,  8371.1875    ,  9969.95898438,  8884.6484375 ,\n",
       "        10241.30078125, 10241.93554688,  9968.29980469, 10243.484375  ]),\n",
       " array([10238.21289062, 10088.7109375 , 10189.52148438,  8955.75878906,\n",
       "        10134.84765625, 10182.10742188, 10159.19335938,  9945.43554688]),\n",
       " array([789.59118652, 751.5065918 , 783.93450928, 787.22296143,\n",
       "        756.22912598])]"
      ]
     },
     "execution_count": 107,
     "metadata": {},
     "output_type": "execute_result"
    }
   ],
   "source": [
    "[np.asarray(X['SSD'])[ind, 0] for ind in inds_in_dict]"
   ]
  },
  {
   "cell_type": "code",
   "execution_count": 117,
   "metadata": {},
   "outputs": [],
   "source": [
    "clean_dota_ssd_inds, trojan_dota_ssd_inds = [30, 32, 35, 36, 38], [31, 33, 34, 37, 39, 40, 41, 42]"
   ]
  },
  {
   "cell_type": "code",
   "execution_count": 110,
   "metadata": {},
   "outputs": [
    {
     "data": {
      "text/plain": [
       "[array([10224.11328125, 10235.2421875 , 10235.2421875 , 10198.91015625,\n",
       "        10238.47070312, 10239.41992188,  9379.25976562]),\n",
       " array([10223.08398438, 10177.31542969, 10168.55664062, 10235.5625    ,\n",
       "        10158.35351562, 10243.61328125, 10030.24414062]),\n",
       " array([  804.14453125,   802.05236816,   833.09521484,   833.09033203,\n",
       "        10116.71386719,   705.11669922,   706.66125488,   804.44543457])]"
      ]
     },
     "execution_count": 110,
     "metadata": {},
     "output_type": "execute_result"
    }
   ],
   "source": [
    "[np.asarray(X['SSD'])[ind, 0] for ind in inds_in_dict]"
   ]
  },
  {
   "cell_type": "code",
   "execution_count": 88,
   "metadata": {},
   "outputs": [
    {
     "data": {
      "text/plain": [
       "'dota_v2'"
      ]
     },
     "execution_count": 88,
     "metadata": {},
     "output_type": "execute_result"
    }
   ],
   "source": [
    "METADATA.iloc[110]['source_dataset_background']"
   ]
  },
  {
   "cell_type": "code",
   "execution_count": 81,
   "metadata": {},
   "outputs": [
    {
     "data": {
      "text/plain": [
       "[[4, 8, 14, 20, 24, 27, 29],\n",
       " [3, 12, 17, 18, 25, 26, 28],\n",
       " [31, 33, 34, 37, 39, 40, 41, 42]]"
      ]
     },
     "execution_count": 81,
     "metadata": {},
     "output_type": "execute_result"
    }
   ],
   "source": [
    "inds_in_dict"
   ]
  },
  {
   "cell_type": "code",
   "execution_count": 25,
   "metadata": {},
   "outputs": [],
   "source": [
    "arr_poisoned = np.asarray(X['SSD'])[y['SSD']][:, :20]\n",
    "arr_clean = np.asarray(X['SSD'])[np.logical_not(y['SSD'])][:, :20]"
   ]
  },
  {
   "cell_type": "code",
   "execution_count": 182,
   "metadata": {},
   "outputs": [
    {
     "data": {
      "text/plain": [
       "MultiIndex([(                      'object_detection:detr', False, 0),\n",
       "            (                      'object_detection:detr', False, 1),\n",
       "            (                      'object_detection:detr',  True, 0),\n",
       "            (                      'object_detection:detr',  True, 1),\n",
       "            ('object_detection:fasterrcnn_resnet50_fpn_v2', False, 0),\n",
       "            ('object_detection:fasterrcnn_resnet50_fpn_v2', False, 1),\n",
       "            ('object_detection:fasterrcnn_resnet50_fpn_v2', False, 2),\n",
       "            ('object_detection:fasterrcnn_resnet50_fpn_v2',  True, 0),\n",
       "            ('object_detection:fasterrcnn_resnet50_fpn_v2',  True, 1),\n",
       "            ('object_detection:fasterrcnn_resnet50_fpn_v2',  True, 2),\n",
       "            (              'object_detection:ssd300_vgg16', False, 0),\n",
       "            (              'object_detection:ssd300_vgg16', False, 1),\n",
       "            (              'object_detection:ssd300_vgg16', False, 2),\n",
       "            (              'object_detection:ssd300_vgg16',  True, 0),\n",
       "            (              'object_detection:ssd300_vgg16',  True, 1),\n",
       "            (              'object_detection:ssd300_vgg16',  True, 2)],\n",
       "           names=['model_architecture', 'poisoned', 'source_dataset_background_level'])"
      ]
     },
     "execution_count": 182,
     "metadata": {},
     "output_type": "execute_result"
    }
   ],
   "source": [
    "gb_df.index"
   ]
  },
  {
   "cell_type": "code",
   "execution_count": 27,
   "metadata": {},
   "outputs": [
    {
     "data": {
      "text/plain": [
       "0      cityscapes\n",
       "1            gta5\n",
       "2            gta5\n",
       "3      cityscapes\n",
       "4            gta5\n",
       "          ...    \n",
       "112       dota_v2\n",
       "113       dota_v2\n",
       "114       dota_v2\n",
       "115    cityscapes\n",
       "116       dota_v2\n",
       "Name: source_dataset_background, Length: 117, dtype: object"
      ]
     },
     "execution_count": 27,
     "metadata": {},
     "output_type": "execute_result"
    }
   ],
   "source": [
    "METADATA['source_dataset_background']"
   ]
  },
  {
   "cell_type": "code",
   "execution_count": 28,
   "metadata": {},
   "outputs": [
    {
     "data": {
      "text/plain": [
       "0      0\n",
       "1      1\n",
       "2      1\n",
       "3      0\n",
       "4      1\n",
       "      ..\n",
       "112    2\n",
       "113    2\n",
       "114    2\n",
       "115    0\n",
       "116    2\n",
       "Name: source_dataset_background_level, Length: 117, dtype: int64"
      ]
     },
     "execution_count": 28,
     "metadata": {},
     "output_type": "execute_result"
    }
   ],
   "source": [
    "METADATA['source_dataset_background_level']"
   ]
  },
  {
   "cell_type": "code",
   "execution_count": 195,
   "metadata": {},
   "outputs": [],
   "source": [
    "arr_poisoned = np.asarray([X[ind] for ind in gb_df.loc['object_detection:fasterrcnn_resnet50_fpn_v2'][True][1]])[:, -20:]\n",
    "arr_clean = np.asarray([X[ind] for ind in gb_df.loc['object_detection:fasterrcnn_resnet50_fpn_v2'][False][1]])[:, -20:]"
   ]
  },
  {
   "cell_type": "code",
   "execution_count": null,
   "metadata": {},
   "outputs": [],
   "source": [
    "fig, axs = plt.subplots(figsize=(16, 18), nrows=3)\n",
    "for row in range(3):\n",
    "    arr_poisoned = np.asarray([X[ind] for ind in gb_df.loc['object_detection:fasterrcnn_resnet50_fpn_v2'][True][row]])[:, :]\n",
    "    arr_clean = np.asarray([X[ind] for ind in gb_df.loc['object_detection:fasterrcnn_resnet50_fpn_v2'][False][row]])[:, :]\n",
    "    ncol = arr_poisoned.shape[-1]*2\n",
    "    bar1 = axs[row].boxplot(arr_poisoned, positions=range(0, ncol, 2), c='g')\n",
    "    bar2 = axs[row].boxplot(arr_clean, positions=range(1, ncol, 2), c='b')\n",
    "# plt.suptitle('Comparison of Round_10 and Current Round with Eigen Value Analysis Pipeline')\n",
    "# fig.tight_layout()\n",
    "plt.show()"
   ]
  },
  {
   "attachments": {},
   "cell_type": "markdown",
   "metadata": {},
   "source": [
    "0                                         [3, 14, 26, 38, 48, 50, 52, 59]\n",
    "                                                       1                                         [8, 13, 18, 22, 55, 56, 57, 63]\n",
    "                                                       2                                       [78, 80, 85, 86, 87, 88, 89, 104]\n",
    "                                             True      0                                               [21, 32, 49, 75, 98, 115]\n",
    "                                                       1                                                    [11, 61, 70, 91, 95]\n",
    "                                                       2                                  [94, 96, 103, 105, 106, 108, 113, 116]"
   ]
  },
  {
   "cell_type": "code",
   "execution_count": 46,
   "metadata": {},
   "outputs": [
    {
     "data": {
      "text/plain": [
       "(500.0, 1000.0)"
      ]
     },
     "execution_count": 46,
     "metadata": {},
     "output_type": "execute_result"
    },
    {
     "data": {
      "image/png": "[encoded data removed]",
      "text/plain": [
       "<Figure size 640x480 with 1 Axes>"
      ]
     },
     "metadata": {},
     "output_type": "display_data"
    }
   ],
   "source": [
    "ticks = [0, 1, 2]\n",
    " \n",
    "# create a boxplot for two arrays separately,\n",
    "# the position specifies the location of the\n",
    "# particular box in the graph,\n",
    "# this can be changed as per your wish. Use width\n",
    "# to specify the width of the plot\n",
    "p = [[12, 24, 35, 51, 66, 72, 79], [7, 33, 43, 44, 69, 71, 74], [82, 84, 90, 101, 110, 111, 112, 114]]\n",
    "c = [[0, 6, 15, 28, 34, 53, 54, 62], [4, 16, 19, 27, 29, 36, 42, 47], [81, 83, 92, 93, 102]]\n",
    "poisoned_plot = plt.boxplot([X[p[t], 0] for t in ticks],\n",
    "                               positions=np.array(np.arange(3))*2.0-0.35,\n",
    "                               widths=0.6)\n",
    "clean_plot = plt.boxplot([X[c[t], 0] for t in ticks],\n",
    "                               positions=np.array(np.arange(3))*2.0+0.35,\n",
    "                               widths=0.6)\n",
    " \n",
    "# each plot returns a dictionary, use plt.setp()\n",
    "# function to assign the color code\n",
    "# for all properties of the box plot of particular group\n",
    "# use the below function to set color for particular group,\n",
    "# by iterating over all properties of the box plot\n",
    "def define_box_properties(plot_name, color_code, label):\n",
    "    for k, v in plot_name.items():\n",
    "        plt.setp(plot_name.get(k), color=color_code)\n",
    "         \n",
    "    # use plot function to draw a small line to name the legend.\n",
    "    plt.plot([], c=color_code, label=label)\n",
    "    plt.legend(loc=3)\n",
    " \n",
    " \n",
    "# setting colors for each groups\n",
    "define_box_properties(poisoned_plot, '#D7191C', 'poisoned')\n",
    "define_box_properties(clean_plot, '#2C7BB6', 'clean')\n",
    " \n",
    "# set the x label values\n",
    "plt.xticks(np.arange(0, len(ticks) * 2, 2), ['cityscapes', 'gta5', 'dota_v2'])\n",
    " \n",
    "# set the limit for x axis\n",
    "plt.xlim(-2, len(ticks)*2)\n",
    " \n",
    "# set the limit for y axis\n",
    "plt.ylim(500, 1000)\n",
    " \n",
    "# set the title\n",
    "# plt.title('First Layer Weight Summation of SSD Model on Dataset background')"
   ]
  },
  {
   "attachments": {},
   "cell_type": "markdown",
   "metadata": {},
   "source": [
    "load = model size / number of data"
   ]
  },
  {
   "cell_type": "code",
   "execution_count": 12,
   "metadata": {},
   "outputs": [
    {
     "data": {
      "image/png": "[encoded data removed]",
      "text/plain": [
       "<Figure size 1600x1800 with 3 Axes>"
      ]
     },
     "metadata": {},
     "output_type": "display_data"
    }
   ],
   "source": [
    "fig, axs = plt.subplots(figsize=(16, 18), nrows=3)\n",
    "for row in range(3):\n",
    "    arr_poisoned = np.asarray([X[ind] for ind in gb_df.loc['object_detection:fasterrcnn_resnet50_fpn_v2'][True][row]])[:, -20:]\n",
    "    arr_clean = np.asarray([X[ind] for ind in gb_df.loc['object_detection:fasterrcnn_resnet50_fpn_v2'][False][row]])[:, -20:]\n",
    "    ncol = arr_poisoned.shape[-1]*2\n",
    "    bar1 = axs[row].boxplot(arr_poisoned, positions=range(0, ncol, 2))\n",
    "    bar2 = axs[row].boxplot(arr_clean, positions=range(1, ncol, 2))\n",
    "# plt.suptitle('Comparison of Round_10 and Current Round with Eigen Value Analysis Pipeline')\n",
    "# fig.tight_layout()\n",
    "plt.show()"
   ]
  },
  {
   "cell_type": "code",
   "execution_count": 14,
   "metadata": {},
   "outputs": [
    {
     "data": {
      "image/png": "[encoded data removed]",
      "text/plain": [
       "<Figure size 1600x1800 with 3 Axes>"
      ]
     },
     "metadata": {},
     "output_type": "display_data"
    }
   ],
   "source": [
    "fig, axs = plt.subplots(figsize=(16, 18), nrows=3)\n",
    "for row in range(3):\n",
    "    arr_poisoned = np.asarray([X[ind] for ind in gb_df.loc['object_detection:ssd300_vgg16'][True][row]])[:, :20]\n",
    "    arr_clean = np.asarray([X[ind] for ind in gb_df.loc['object_detection:ssd300_vgg16'][False][row]])[:, :20]\n",
    "    ncol = arr_poisoned.shape[-1]*2\n",
    "    bar1 = axs[row].boxplot(arr_poisoned, positions=range(0, ncol, 2))\n",
    "    bar2 = axs[row].boxplot(arr_clean, positions=range(1, ncol, 2))\n",
    "plt.show()"
   ]
  },
  {
   "cell_type": "code",
   "execution_count": 16,
   "metadata": {},
   "outputs": [
    {
     "data": {
      "image/png": "[encoded data removed]",
      "text/plain": [
       "<Figure size 1600x1200 with 2 Axes>"
      ]
     },
     "metadata": {},
     "output_type": "display_data"
    }
   ],
   "source": [
    "fig, axs = plt.subplots(figsize=(16, 12), nrows=2)\n",
    "for row in range(2):\n",
    "    arr_poisoned = np.asarray([X[ind] for ind in gb_df.loc['object_detection:detr'][True][row]])[:, -20:]\n",
    "    arr_clean = np.asarray([X[ind] for ind in gb_df.loc['object_detection:detr'][False][row]])[:, -20:]\n",
    "    ncol = arr_poisoned.shape[-1]*2\n",
    "    bar1 = axs[row].boxplot(arr_poisoned, positions=range(0, ncol, 2))\n",
    "    bar2 = axs[row].boxplot(arr_clean, positions=range(1, ncol, 2))\n",
    "plt.show()"
   ]
  },
  {
   "attachments": {},
   "cell_type": "markdown",
   "metadata": {},
   "source": [
    "# Visualization"
   ]
  },
  {
   "cell_type": "code",
   "execution_count": 9,
   "metadata": {},
   "outputs": [],
   "source": [
    "from sklearn.metrics import log_loss\n",
    "from sklearn.ensemble import GradientBoostingClassifier\n",
    "from sklearn.model_selection import train_test_split\n",
    "from sklearn.model_selection import GridSearchCV\n",
    "\n",
    "def bootstrap_performance(X, y, clf, n=10, test_size=.2, eps=.01):\n",
    "    all_cross_entropy, all_accuracy = [], []\n",
    "    for i in range(n):\n",
    "        X_train, X_test, y_train, y_test = train_test_split(X, y, test_size=test_size, random_state=i)\n",
    "        \n",
    "        # clf.set_params(random_state=i)            \n",
    "        clf.fit(X_train, y_train)\n",
    "        \n",
    "        all_cross_entropy.append(log_loss(y_test, clf.predict_proba(X_test), eps=eps, labels=[0, 1]))\n",
    "        all_accuracy.append(clf.score(X_test, y_test))\n",
    "    return all_cross_entropy, all_accuracy"
   ]
  },
  {
   "cell_type": "code",
   "execution_count": 10,
   "metadata": {},
   "outputs": [],
   "source": [
    "clf_dict = {'FasterRCNN':  GradientBoostingClassifier(n_estimators=1100, learning_rate=0.00225, max_depth=8, min_samples_split=17, subsample=.66, min_samples_leaf=4, max_features=230), \n",
    "            'SSD': GradientBoostingClassifier(n_estimators=900, learning_rate=0.003, max_depth=4, min_samples_split=11, subsample=.63, max_features=240),\n",
    "            'DetrForObjectDetection': GradientBoostingClassifier(n_estimators=1300, learning_rate=.019, max_depth= 4, max_features= 24, min_samples_leaf= 12, min_samples_split= 20)}"
   ]
  },
  {
   "cell_type": "code",
   "execution_count": 12,
   "metadata": {},
   "outputs": [],
   "source": [
    "clf_dict = {'FasterRCNN': GradientBoostingClassifier(n_estimators=2350, learning_rate=0.256, max_depth=4, min_samples_split=20, subsample=.54, min_samples_leaf=65, max_features=400), \n",
    "            'SSD': GradientBoostingClassifier(n_estimators=225, learning_rate=0.007, max_depth=2, min_samples_leaf=6, min_samples_split=16, max_features=300, subsample=.6),\n",
    "            'DetrForObjectDetection': GradientBoostingClassifier(n_estimators=1100, learning_rate=.196, max_depth= 4, max_features= 400, min_samples_leaf= 45, min_samples_split= 60, subsample=.62)}"
   ]
  },
  {
   "cell_type": "code",
   "execution_count": 13,
   "metadata": {},
   "outputs": [
    {
     "name": "stdout",
     "output_type": "stream",
     "text": [
      "FasterRCNN 0.708880018690028 0.5177777777777778\n",
      "SSD 0.7251499792619934 0.3866666666666667\n",
      "DetrForObjectDetection 0.8511710159300294 0.7342857142857142\n"
     ]
    }
   ],
   "source": [
    "for k, v in clf_dict.items():\n",
    "    X, y = np.load(os.path.join('/scratch/jialin/object-detection-feb2023/weight_analysis/extracted_source/eigen.4_wstats_subsample', f'{k}_X.npy')), np.load(os.path.join('/scratch/jialin/object-detection-feb2023/weight_analysis/extracted_source/eigen.4_wstats_subsample', f'{k}_y.npy'))\n",
    "    cen, acc = bootstrap_performance(X, y, v, n=50, test_size=.2)\n",
    "    print(k, np.mean(cen), np.mean(acc))"
   ]
  },
  {
   "cell_type": "code",
   "execution_count": 14,
   "metadata": {},
   "outputs": [],
   "source": [
    "for k, v in clf_dict.items():\n",
    "    X, y = np.load(os.path.join(OUTPUT_FILEDIR, f'{k}_X.npy')), np.load(os.path.join(OUTPUT_FILEDIR, f'{k}_y.npy'))\n",
    "    clf = v.fit(X, y)\n",
    "    joblib.dump(clf, os.path.join(OUTPUT_FILEDIR, f'{k}_clf.joblib'))"
   ]
  },
  {
   "cell_type": "code",
   "execution_count": 11,
   "metadata": {},
   "outputs": [
    {
     "name": "stdout",
     "output_type": "stream",
     "text": [
      "SSD 0.6350781540864998 0.7266666666666669\n",
      "DetrForObjectDetection 0.7502614615266917 0.5457142857142856\n",
      "FasterRCNN 0.6174911918613717 0.7088888888888889\n"
     ]
    }
   ],
   "source": [
    "for k, v in X.items():\n",
    "    clf = clf_dict[k]\n",
    "    cen, acc = bootstrap_performance(v, y[k], clf, n=50, test_size=.2)\n",
    "    print(k, np.mean(cen), np.mean(acc))\n",
    "    # print(np.argsort(cen)[:10], np.asarray(cen)[np.argsort(cen)[:10]])\n",
    "    # print(np.argsort(acc)[::-1][:10], np.asarray(acc)[np.argsort(acc)[::-1][:10]])"
   ]
  },
  {
   "attachments": {},
   "cell_type": "markdown",
   "metadata": {},
   "source": [
    "eigen(.5) + weight:\n",
    "SSD 0.5742148777722668 0.6933333333333332\n",
    "DetrForObjectDetection 0.7076452540546534 0.6571428571428573\n",
    "FasterRCNN 0.6123584841137905 0.7244444444444443\n",
    "weight:\n",
    "SSD 0.6460716948869945 0.691111111111111\n",
    "DetrForObjectDetection 0.5440759932804827 0.7414285714285715\n",
    "FasterRCNN 0.6230866976861928 0.7244444444444443\n",
    "normalized weight:\n",
    "SSD 0.7054846389790674 0.6844444444444444\n",
    "DetrForObjectDetection 0.6811323027339867 0.64\n",
    "FasterRCNN 0.6923057213981706 0.6799999999999998\n",
    "eigen(.4) + weight:\n",
    "SSD 0.5812029632266128 0.6866666666666665\n",
    "DetrForObjectDetection 0.5909579794119415 0.7028571428571427\n",
    "FasterRCNN 0.6121626781217447 0.7266666666666666"
   ]
  },
  {
   "attachments": {},
   "cell_type": "markdown",
   "metadata": {},
   "source": [
    "eigen val from layers\n",
    "SSD 0.6467230935677822 0.7066666666666666\n",
    "DetrForObjectDetection 0.7494677783113759 0.5342857142857141\n",
    "FasterRCNN 0.6547701197345001 0.7288888888888888"
   ]
  },
  {
   "cell_type": "code",
   "execution_count": 21,
   "metadata": {},
   "outputs": [],
   "source": [
    "for k, v in X.items():\n",
    "    clf = clf_dict[k].fit(v, y[k])\n",
    "    joblib.dump(clf, os.path.join(OUTPUT_FILEDIR, f'{k}_clf.joblib'))"
   ]
  },
  {
   "cell_type": "code",
   "execution_count": 18,
   "metadata": {},
   "outputs": [
    {
     "data": {
      "text/plain": [
       "dict_keys(['SSD', 'DetrForObjectDetection', 'FasterRCNN'])"
      ]
     },
     "execution_count": 18,
     "metadata": {},
     "output_type": "execute_result"
    }
   ],
   "source": [
    "X.keys()"
   ]
  },
  {
   "cell_type": "code",
   "execution_count": 4,
   "metadata": {},
   "outputs": [],
   "source": [
    "k = 'SSD'"
   ]
  },
  {
   "cell_type": "code",
   "execution_count": 5,
   "metadata": {},
   "outputs": [],
   "source": [
    "X = np.load(os.path.join(OUTPUT_FILEDIR, f'{k}_X.npy'))\n",
    "y = np.load(os.path.join(OUTPUT_FILEDIR, f'{k}_y.npy'))"
   ]
  },
  {
   "cell_type": "code",
   "execution_count": 6,
   "metadata": {},
   "outputs": [
    {
     "data": {
      "text/plain": [
       "(43, 1063)"
      ]
     },
     "execution_count": 6,
     "metadata": {},
     "output_type": "execute_result"
    }
   ],
   "source": [
    "X.shape"
   ]
  },
  {
   "cell_type": "code",
   "execution_count": 10,
   "metadata": {},
   "outputs": [],
   "source": [
    "clf = GradientBoostingClassifier(n_estimators=100, learning_rate=0.111, max_depth=2, min_samples_leaf=6, min_samples_split=16, subsample=.6, max_features=300)\n",
    "# param={'max_depth': range(2, 9, 2), 'min_samples_leaf': range(2, 35, 4), 'min_samples_split': range(16, 65, 4), 'max_features': range(200, 411, 20), 'subsample': np.arange(.6, .91, .02)}\n",
    "# param = {'learning_rate':np.arange(.05, .301, .05), 'n_estimators':range(100, 2001, 25)}\n",
    "param = {'learning_rate':np.arange(.001, .301, .001), 'n_estimators':range(100, 3001, 25)}\n",
    "# param = {'learning_rate':[.015, .03, .005, .01, .0025, .025, .003, .0015, .0005], 'n_estimators':[125, 63, 375, 187, 750, 75, 630, 1250, 3750]}\n",
    "gsearch = GridSearchCV(estimator=clf, param_grid=param, scoring=['neg_log_loss', 'accuracy'], n_jobs=10, cv=5, refit=False);\n",
    "gsearch.fit(X, y);"
   ]
  },
  {
   "cell_type": "code",
   "execution_count": 11,
   "metadata": {},
   "outputs": [],
   "source": [
    "gsearch_result = pd.DataFrame(gsearch.cv_results_).sort_values(by=['rank_test_neg_log_loss', 'rank_test_accuracy'])\n",
    "gsearch_result.to_csv(os.path.join(OUTPUT_FILEDIR, f'gsearch_result_{k}.csv'))"
   ]
  },
  {
   "cell_type": "code",
   "execution_count": 12,
   "metadata": {},
   "outputs": [
    {
     "data": {
      "text/html": [
       "<div>\n",
       "<style scoped>\n",
       "    .dataframe tbody tr th:only-of-type {\n",
       "        vertical-align: middle;\n",
       "    }\n",
       "\n",
       "    .dataframe tbody tr th {\n",
       "        vertical-align: top;\n",
       "    }\n",
       "\n",
       "    .dataframe thead th {\n",
       "        text-align: right;\n",
       "    }\n",
       "</style>\n",
       "<table border=\"1\" class=\"dataframe\">\n",
       "  <thead>\n",
       "    <tr style=\"text-align: right;\">\n",
       "      <th></th>\n",
       "      <th>mean_fit_time</th>\n",
       "      <th>std_fit_time</th>\n",
       "      <th>mean_score_time</th>\n",
       "      <th>std_score_time</th>\n",
       "      <th>param_learning_rate</th>\n",
       "      <th>param_n_estimators</th>\n",
       "      <th>params</th>\n",
       "      <th>split0_test_neg_log_loss</th>\n",
       "      <th>split1_test_neg_log_loss</th>\n",
       "      <th>split2_test_neg_log_loss</th>\n",
       "      <th>...</th>\n",
       "      <th>std_test_neg_log_loss</th>\n",
       "      <th>rank_test_neg_log_loss</th>\n",
       "      <th>split0_test_accuracy</th>\n",
       "      <th>split1_test_accuracy</th>\n",
       "      <th>split2_test_accuracy</th>\n",
       "      <th>split3_test_accuracy</th>\n",
       "      <th>split4_test_accuracy</th>\n",
       "      <th>mean_test_accuracy</th>\n",
       "      <th>std_test_accuracy</th>\n",
       "      <th>rank_test_accuracy</th>\n",
       "    </tr>\n",
       "  </thead>\n",
       "  <tbody>\n",
       "    <tr>\n",
       "      <th>3745</th>\n",
       "      <td>0.078553</td>\n",
       "      <td>0.000611</td>\n",
       "      <td>0.001505</td>\n",
       "      <td>0.000028</td>\n",
       "      <td>0.033</td>\n",
       "      <td>125</td>\n",
       "      <td>{'learning_rate': 0.033, 'n_estimators': 125}</td>\n",
       "      <td>-0.341112</td>\n",
       "      <td>-0.549322</td>\n",
       "      <td>-0.706908</td>\n",
       "      <td>...</td>\n",
       "      <td>0.140328</td>\n",
       "      <td>1</td>\n",
       "      <td>0.888889</td>\n",
       "      <td>0.777778</td>\n",
       "      <td>0.444444</td>\n",
       "      <td>0.750</td>\n",
       "      <td>0.250</td>\n",
       "      <td>0.622222</td>\n",
       "      <td>0.237398</td>\n",
       "      <td>32209</td>\n",
       "    </tr>\n",
       "    <tr>\n",
       "      <th>8073</th>\n",
       "      <td>0.063099</td>\n",
       "      <td>0.001126</td>\n",
       "      <td>0.001582</td>\n",
       "      <td>0.000049</td>\n",
       "      <td>0.07</td>\n",
       "      <td>100</td>\n",
       "      <td>{'learning_rate': 0.07, 'n_estimators': 100}</td>\n",
       "      <td>-0.356271</td>\n",
       "      <td>-0.657309</td>\n",
       "      <td>-0.693475</td>\n",
       "      <td>...</td>\n",
       "      <td>0.131424</td>\n",
       "      <td>2</td>\n",
       "      <td>0.888889</td>\n",
       "      <td>0.666667</td>\n",
       "      <td>0.666667</td>\n",
       "      <td>0.750</td>\n",
       "      <td>0.250</td>\n",
       "      <td>0.644444</td>\n",
       "      <td>0.213293</td>\n",
       "      <td>27848</td>\n",
       "    </tr>\n",
       "    <tr>\n",
       "      <th>12870</th>\n",
       "      <td>0.071993</td>\n",
       "      <td>0.008178</td>\n",
       "      <td>0.001946</td>\n",
       "      <td>0.000462</td>\n",
       "      <td>0.111</td>\n",
       "      <td>100</td>\n",
       "      <td>{'learning_rate': 0.111, 'n_estimators': 100}</td>\n",
       "      <td>-0.228063</td>\n",
       "      <td>-0.557090</td>\n",
       "      <td>-0.718041</td>\n",
       "      <td>...</td>\n",
       "      <td>0.212997</td>\n",
       "      <td>3</td>\n",
       "      <td>0.888889</td>\n",
       "      <td>0.666667</td>\n",
       "      <td>0.666667</td>\n",
       "      <td>0.750</td>\n",
       "      <td>0.625</td>\n",
       "      <td>0.719444</td>\n",
       "      <td>0.093953</td>\n",
       "      <td>2464</td>\n",
       "    </tr>\n",
       "    <tr>\n",
       "      <th>5850</th>\n",
       "      <td>0.062990</td>\n",
       "      <td>0.000678</td>\n",
       "      <td>0.001561</td>\n",
       "      <td>0.000037</td>\n",
       "      <td>0.051</td>\n",
       "      <td>100</td>\n",
       "      <td>{'learning_rate': 0.051000000000000004, 'n_est...</td>\n",
       "      <td>-0.352012</td>\n",
       "      <td>-0.573338</td>\n",
       "      <td>-0.721012</td>\n",
       "      <td>...</td>\n",
       "      <td>0.142894</td>\n",
       "      <td>4</td>\n",
       "      <td>0.888889</td>\n",
       "      <td>0.777778</td>\n",
       "      <td>0.666667</td>\n",
       "      <td>0.625</td>\n",
       "      <td>0.375</td>\n",
       "      <td>0.666667</td>\n",
       "      <td>0.172357</td>\n",
       "      <td>20042</td>\n",
       "    </tr>\n",
       "    <tr>\n",
       "      <th>5968</th>\n",
       "      <td>0.079375</td>\n",
       "      <td>0.001292</td>\n",
       "      <td>0.001526</td>\n",
       "      <td>0.000033</td>\n",
       "      <td>0.052</td>\n",
       "      <td>125</td>\n",
       "      <td>{'learning_rate': 0.052000000000000005, 'n_est...</td>\n",
       "      <td>-0.273112</td>\n",
       "      <td>-0.569925</td>\n",
       "      <td>-0.681151</td>\n",
       "      <td>...</td>\n",
       "      <td>0.193816</td>\n",
       "      <td>5</td>\n",
       "      <td>0.888889</td>\n",
       "      <td>0.666667</td>\n",
       "      <td>0.666667</td>\n",
       "      <td>0.750</td>\n",
       "      <td>0.250</td>\n",
       "      <td>0.644444</td>\n",
       "      <td>0.213293</td>\n",
       "      <td>27848</td>\n",
       "    </tr>\n",
       "    <tr>\n",
       "      <th>7839</th>\n",
       "      <td>0.063560</td>\n",
       "      <td>0.001277</td>\n",
       "      <td>0.001533</td>\n",
       "      <td>0.000042</td>\n",
       "      <td>0.068</td>\n",
       "      <td>100</td>\n",
       "      <td>{'learning_rate': 0.068, 'n_estimators': 100}</td>\n",
       "      <td>-0.273675</td>\n",
       "      <td>-0.567905</td>\n",
       "      <td>-0.705889</td>\n",
       "      <td>...</td>\n",
       "      <td>0.190345</td>\n",
       "      <td>6</td>\n",
       "      <td>1.000000</td>\n",
       "      <td>0.666667</td>\n",
       "      <td>0.666667</td>\n",
       "      <td>0.750</td>\n",
       "      <td>0.375</td>\n",
       "      <td>0.691667</td>\n",
       "      <td>0.200000</td>\n",
       "      <td>9553</td>\n",
       "    </tr>\n",
       "    <tr>\n",
       "      <th>3042</th>\n",
       "      <td>0.062784</td>\n",
       "      <td>0.000799</td>\n",
       "      <td>0.001521</td>\n",
       "      <td>0.000027</td>\n",
       "      <td>0.027</td>\n",
       "      <td>100</td>\n",
       "      <td>{'learning_rate': 0.027000000000000003, 'n_est...</td>\n",
       "      <td>-0.462242</td>\n",
       "      <td>-0.584624</td>\n",
       "      <td>-0.601283</td>\n",
       "      <td>...</td>\n",
       "      <td>0.103198</td>\n",
       "      <td>7</td>\n",
       "      <td>0.888889</td>\n",
       "      <td>0.777778</td>\n",
       "      <td>0.666667</td>\n",
       "      <td>0.750</td>\n",
       "      <td>0.250</td>\n",
       "      <td>0.666667</td>\n",
       "      <td>0.220129</td>\n",
       "      <td>20042</td>\n",
       "    </tr>\n",
       "    <tr>\n",
       "      <th>3393</th>\n",
       "      <td>0.062645</td>\n",
       "      <td>0.000817</td>\n",
       "      <td>0.001481</td>\n",
       "      <td>0.000028</td>\n",
       "      <td>0.03</td>\n",
       "      <td>100</td>\n",
       "      <td>{'learning_rate': 0.030000000000000002, 'n_est...</td>\n",
       "      <td>-0.405477</td>\n",
       "      <td>-0.606294</td>\n",
       "      <td>-0.640579</td>\n",
       "      <td>...</td>\n",
       "      <td>0.122382</td>\n",
       "      <td>8</td>\n",
       "      <td>0.888889</td>\n",
       "      <td>0.777778</td>\n",
       "      <td>0.666667</td>\n",
       "      <td>0.750</td>\n",
       "      <td>0.250</td>\n",
       "      <td>0.666667</td>\n",
       "      <td>0.220129</td>\n",
       "      <td>20042</td>\n",
       "    </tr>\n",
       "    <tr>\n",
       "      <th>4565</th>\n",
       "      <td>0.094876</td>\n",
       "      <td>0.001898</td>\n",
       "      <td>0.001575</td>\n",
       "      <td>0.000037</td>\n",
       "      <td>0.04</td>\n",
       "      <td>150</td>\n",
       "      <td>{'learning_rate': 0.04, 'n_estimators': 150}</td>\n",
       "      <td>-0.285554</td>\n",
       "      <td>-0.617364</td>\n",
       "      <td>-0.692358</td>\n",
       "      <td>...</td>\n",
       "      <td>0.186864</td>\n",
       "      <td>9</td>\n",
       "      <td>1.000000</td>\n",
       "      <td>0.555556</td>\n",
       "      <td>0.666667</td>\n",
       "      <td>0.750</td>\n",
       "      <td>0.375</td>\n",
       "      <td>0.669444</td>\n",
       "      <td>0.207573</td>\n",
       "      <td>19652</td>\n",
       "    </tr>\n",
       "    <tr>\n",
       "      <th>1291</th>\n",
       "      <td>0.125181</td>\n",
       "      <td>0.002050</td>\n",
       "      <td>0.001607</td>\n",
       "      <td>0.000009</td>\n",
       "      <td>0.012</td>\n",
       "      <td>200</td>\n",
       "      <td>{'learning_rate': 0.012, 'n_estimators': 200}</td>\n",
       "      <td>-0.468924</td>\n",
       "      <td>-0.609551</td>\n",
       "      <td>-0.642298</td>\n",
       "      <td>...</td>\n",
       "      <td>0.088974</td>\n",
       "      <td>10</td>\n",
       "      <td>0.888889</td>\n",
       "      <td>0.777778</td>\n",
       "      <td>0.666667</td>\n",
       "      <td>0.750</td>\n",
       "      <td>0.250</td>\n",
       "      <td>0.666667</td>\n",
       "      <td>0.220129</td>\n",
       "      <td>20042</td>\n",
       "    </tr>\n",
       "    <tr>\n",
       "      <th>1996</th>\n",
       "      <td>0.173247</td>\n",
       "      <td>0.004348</td>\n",
       "      <td>0.001700</td>\n",
       "      <td>0.000041</td>\n",
       "      <td>0.018</td>\n",
       "      <td>275</td>\n",
       "      <td>{'learning_rate': 0.018000000000000002, 'n_est...</td>\n",
       "      <td>-0.339807</td>\n",
       "      <td>-0.590287</td>\n",
       "      <td>-0.642547</td>\n",
       "      <td>...</td>\n",
       "      <td>0.159188</td>\n",
       "      <td>11</td>\n",
       "      <td>1.000000</td>\n",
       "      <td>0.777778</td>\n",
       "      <td>0.666667</td>\n",
       "      <td>0.625</td>\n",
       "      <td>0.250</td>\n",
       "      <td>0.663889</td>\n",
       "      <td>0.244444</td>\n",
       "      <td>20242</td>\n",
       "    </tr>\n",
       "    <tr>\n",
       "      <th>2695</th>\n",
       "      <td>0.126691</td>\n",
       "      <td>0.002265</td>\n",
       "      <td>0.001628</td>\n",
       "      <td>0.000015</td>\n",
       "      <td>0.024</td>\n",
       "      <td>200</td>\n",
       "      <td>{'learning_rate': 0.024, 'n_estimators': 200}</td>\n",
       "      <td>-0.384917</td>\n",
       "      <td>-0.583945</td>\n",
       "      <td>-0.703404</td>\n",
       "      <td>...</td>\n",
       "      <td>0.130986</td>\n",
       "      <td>12</td>\n",
       "      <td>0.888889</td>\n",
       "      <td>0.666667</td>\n",
       "      <td>0.666667</td>\n",
       "      <td>0.750</td>\n",
       "      <td>0.250</td>\n",
       "      <td>0.644444</td>\n",
       "      <td>0.213293</td>\n",
       "      <td>27848</td>\n",
       "    </tr>\n",
       "    <tr>\n",
       "      <th>1528</th>\n",
       "      <td>0.171332</td>\n",
       "      <td>0.002224</td>\n",
       "      <td>0.001666</td>\n",
       "      <td>0.000027</td>\n",
       "      <td>0.014</td>\n",
       "      <td>275</td>\n",
       "      <td>{'learning_rate': 0.014000000000000002, 'n_est...</td>\n",
       "      <td>-0.387363</td>\n",
       "      <td>-0.599030</td>\n",
       "      <td>-0.646904</td>\n",
       "      <td>...</td>\n",
       "      <td>0.131902</td>\n",
       "      <td>13</td>\n",
       "      <td>0.888889</td>\n",
       "      <td>0.666667</td>\n",
       "      <td>0.666667</td>\n",
       "      <td>0.625</td>\n",
       "      <td>0.250</td>\n",
       "      <td>0.619444</td>\n",
       "      <td>0.206679</td>\n",
       "      <td>32524</td>\n",
       "    </tr>\n",
       "    <tr>\n",
       "      <th>3861</th>\n",
       "      <td>0.062593</td>\n",
       "      <td>0.000824</td>\n",
       "      <td>0.001487</td>\n",
       "      <td>0.000030</td>\n",
       "      <td>0.034</td>\n",
       "      <td>100</td>\n",
       "      <td>{'learning_rate': 0.034, 'n_estimators': 100}</td>\n",
       "      <td>-0.441784</td>\n",
       "      <td>-0.548615</td>\n",
       "      <td>-0.659189</td>\n",
       "      <td>...</td>\n",
       "      <td>0.118922</td>\n",
       "      <td>14</td>\n",
       "      <td>0.888889</td>\n",
       "      <td>0.888889</td>\n",
       "      <td>0.666667</td>\n",
       "      <td>0.750</td>\n",
       "      <td>0.250</td>\n",
       "      <td>0.688889</td>\n",
       "      <td>0.235309</td>\n",
       "      <td>9631</td>\n",
       "    </tr>\n",
       "    <tr>\n",
       "      <th>1066</th>\n",
       "      <td>0.264650</td>\n",
       "      <td>0.003048</td>\n",
       "      <td>0.001782</td>\n",
       "      <td>0.000038</td>\n",
       "      <td>0.01</td>\n",
       "      <td>425</td>\n",
       "      <td>{'learning_rate': 0.010000000000000002, 'n_est...</td>\n",
       "      <td>-0.381971</td>\n",
       "      <td>-0.593391</td>\n",
       "      <td>-0.679527</td>\n",
       "      <td>...</td>\n",
       "      <td>0.137694</td>\n",
       "      <td>15</td>\n",
       "      <td>0.888889</td>\n",
       "      <td>0.666667</td>\n",
       "      <td>0.666667</td>\n",
       "      <td>0.750</td>\n",
       "      <td>0.250</td>\n",
       "      <td>0.644444</td>\n",
       "      <td>0.213293</td>\n",
       "      <td>27848</td>\n",
       "    </tr>\n",
       "    <tr>\n",
       "      <th>5031</th>\n",
       "      <td>0.063471</td>\n",
       "      <td>0.001508</td>\n",
       "      <td>0.001529</td>\n",
       "      <td>0.000026</td>\n",
       "      <td>0.044</td>\n",
       "      <td>100</td>\n",
       "      <td>{'learning_rate': 0.044000000000000004, 'n_est...</td>\n",
       "      <td>-0.380761</td>\n",
       "      <td>-0.611077</td>\n",
       "      <td>-0.694085</td>\n",
       "      <td>...</td>\n",
       "      <td>0.141112</td>\n",
       "      <td>16</td>\n",
       "      <td>0.888889</td>\n",
       "      <td>0.777778</td>\n",
       "      <td>0.666667</td>\n",
       "      <td>0.750</td>\n",
       "      <td>0.250</td>\n",
       "      <td>0.666667</td>\n",
       "      <td>0.220129</td>\n",
       "      <td>20042</td>\n",
       "    </tr>\n",
       "    <tr>\n",
       "      <th>1056</th>\n",
       "      <td>0.109656</td>\n",
       "      <td>0.001659</td>\n",
       "      <td>0.001603</td>\n",
       "      <td>0.000023</td>\n",
       "      <td>0.01</td>\n",
       "      <td>175</td>\n",
       "      <td>{'learning_rate': 0.010000000000000002, 'n_est...</td>\n",
       "      <td>-0.479376</td>\n",
       "      <td>-0.604416</td>\n",
       "      <td>-0.640274</td>\n",
       "      <td>...</td>\n",
       "      <td>0.085980</td>\n",
       "      <td>17</td>\n",
       "      <td>0.888889</td>\n",
       "      <td>0.777778</td>\n",
       "      <td>0.666667</td>\n",
       "      <td>0.750</td>\n",
       "      <td>0.250</td>\n",
       "      <td>0.666667</td>\n",
       "      <td>0.220129</td>\n",
       "      <td>20042</td>\n",
       "    </tr>\n",
       "    <tr>\n",
       "      <th>8076</th>\n",
       "      <td>0.109031</td>\n",
       "      <td>0.001364</td>\n",
       "      <td>0.001582</td>\n",
       "      <td>0.000015</td>\n",
       "      <td>0.07</td>\n",
       "      <td>175</td>\n",
       "      <td>{'learning_rate': 0.07, 'n_estimators': 175}</td>\n",
       "      <td>-0.345884</td>\n",
       "      <td>-0.644488</td>\n",
       "      <td>-0.770121</td>\n",
       "      <td>...</td>\n",
       "      <td>0.147905</td>\n",
       "      <td>18</td>\n",
       "      <td>0.888889</td>\n",
       "      <td>0.666667</td>\n",
       "      <td>0.666667</td>\n",
       "      <td>0.750</td>\n",
       "      <td>0.750</td>\n",
       "      <td>0.744444</td>\n",
       "      <td>0.081271</td>\n",
       "      <td>208</td>\n",
       "    </tr>\n",
       "    <tr>\n",
       "      <th>2228</th>\n",
       "      <td>0.153625</td>\n",
       "      <td>0.006548</td>\n",
       "      <td>0.002024</td>\n",
       "      <td>0.000369</td>\n",
       "      <td>0.02</td>\n",
       "      <td>225</td>\n",
       "      <td>{'learning_rate': 0.02, 'n_estimators': 225}</td>\n",
       "      <td>-0.353594</td>\n",
       "      <td>-0.574557</td>\n",
       "      <td>-0.712533</td>\n",
       "      <td>...</td>\n",
       "      <td>0.151401</td>\n",
       "      <td>19</td>\n",
       "      <td>0.888889</td>\n",
       "      <td>0.666667</td>\n",
       "      <td>0.555556</td>\n",
       "      <td>0.750</td>\n",
       "      <td>0.375</td>\n",
       "      <td>0.647222</td>\n",
       "      <td>0.174271</td>\n",
       "      <td>27288</td>\n",
       "    </tr>\n",
       "    <tr>\n",
       "      <th>4097</th>\n",
       "      <td>0.093616</td>\n",
       "      <td>0.001284</td>\n",
       "      <td>0.001498</td>\n",
       "      <td>0.000011</td>\n",
       "      <td>0.036</td>\n",
       "      <td>150</td>\n",
       "      <td>{'learning_rate': 0.036000000000000004, 'n_est...</td>\n",
       "      <td>-0.323361</td>\n",
       "      <td>-0.591987</td>\n",
       "      <td>-0.696943</td>\n",
       "      <td>...</td>\n",
       "      <td>0.165395</td>\n",
       "      <td>20</td>\n",
       "      <td>0.888889</td>\n",
       "      <td>0.777778</td>\n",
       "      <td>0.666667</td>\n",
       "      <td>0.750</td>\n",
       "      <td>0.250</td>\n",
       "      <td>0.666667</td>\n",
       "      <td>0.220129</td>\n",
       "      <td>20042</td>\n",
       "    </tr>\n",
       "  </tbody>\n",
       "</table>\n",
       "<p>20 rows × 23 columns</p>\n",
       "</div>"
      ],
      "text/plain": [
       "       mean_fit_time  std_fit_time  mean_score_time  std_score_time  \\\n",
       "3745        0.078553      0.000611         0.001505        0.000028   \n",
       "8073        0.063099      0.001126         0.001582        0.000049   \n",
       "12870       0.071993      0.008178         0.001946        0.000462   \n",
       "5850        0.062990      0.000678         0.001561        0.000037   \n",
       "5968        0.079375      0.001292         0.001526        0.000033   \n",
       "7839        0.063560      0.001277         0.001533        0.000042   \n",
       "3042        0.062784      0.000799         0.001521        0.000027   \n",
       "3393        0.062645      0.000817         0.001481        0.000028   \n",
       "4565        0.094876      0.001898         0.001575        0.000037   \n",
       "1291        0.125181      0.002050         0.001607        0.000009   \n",
       "1996        0.173247      0.004348         0.001700        0.000041   \n",
       "2695        0.126691      0.002265         0.001628        0.000015   \n",
       "1528        0.171332      0.002224         0.001666        0.000027   \n",
       "3861        0.062593      0.000824         0.001487        0.000030   \n",
       "1066        0.264650      0.003048         0.001782        0.000038   \n",
       "5031        0.063471      0.001508         0.001529        0.000026   \n",
       "1056        0.109656      0.001659         0.001603        0.000023   \n",
       "8076        0.109031      0.001364         0.001582        0.000015   \n",
       "2228        0.153625      0.006548         0.002024        0.000369   \n",
       "4097        0.093616      0.001284         0.001498        0.000011   \n",
       "\n",
       "      param_learning_rate param_n_estimators  \\\n",
       "3745                0.033                125   \n",
       "8073                 0.07                100   \n",
       "12870               0.111                100   \n",
       "5850                0.051                100   \n",
       "5968                0.052                125   \n",
       "7839                0.068                100   \n",
       "3042                0.027                100   \n",
       "3393                 0.03                100   \n",
       "4565                 0.04                150   \n",
       "1291                0.012                200   \n",
       "1996                0.018                275   \n",
       "2695                0.024                200   \n",
       "1528                0.014                275   \n",
       "3861                0.034                100   \n",
       "1066                 0.01                425   \n",
       "5031                0.044                100   \n",
       "1056                 0.01                175   \n",
       "8076                 0.07                175   \n",
       "2228                 0.02                225   \n",
       "4097                0.036                150   \n",
       "\n",
       "                                                  params  \\\n",
       "3745       {'learning_rate': 0.033, 'n_estimators': 125}   \n",
       "8073        {'learning_rate': 0.07, 'n_estimators': 100}   \n",
       "12870      {'learning_rate': 0.111, 'n_estimators': 100}   \n",
       "5850   {'learning_rate': 0.051000000000000004, 'n_est...   \n",
       "5968   {'learning_rate': 0.052000000000000005, 'n_est...   \n",
       "7839       {'learning_rate': 0.068, 'n_estimators': 100}   \n",
       "3042   {'learning_rate': 0.027000000000000003, 'n_est...   \n",
       "3393   {'learning_rate': 0.030000000000000002, 'n_est...   \n",
       "4565        {'learning_rate': 0.04, 'n_estimators': 150}   \n",
       "1291       {'learning_rate': 0.012, 'n_estimators': 200}   \n",
       "1996   {'learning_rate': 0.018000000000000002, 'n_est...   \n",
       "2695       {'learning_rate': 0.024, 'n_estimators': 200}   \n",
       "1528   {'learning_rate': 0.014000000000000002, 'n_est...   \n",
       "3861       {'learning_rate': 0.034, 'n_estimators': 100}   \n",
       "1066   {'learning_rate': 0.010000000000000002, 'n_est...   \n",
       "5031   {'learning_rate': 0.044000000000000004, 'n_est...   \n",
       "1056   {'learning_rate': 0.010000000000000002, 'n_est...   \n",
       "8076        {'learning_rate': 0.07, 'n_estimators': 175}   \n",
       "2228        {'learning_rate': 0.02, 'n_estimators': 225}   \n",
       "4097   {'learning_rate': 0.036000000000000004, 'n_est...   \n",
       "\n",
       "       split0_test_neg_log_loss  split1_test_neg_log_loss  \\\n",
       "3745                  -0.341112                 -0.549322   \n",
       "8073                  -0.356271                 -0.657309   \n",
       "12870                 -0.228063                 -0.557090   \n",
       "5850                  -0.352012                 -0.573338   \n",
       "5968                  -0.273112                 -0.569925   \n",
       "7839                  -0.273675                 -0.567905   \n",
       "3042                  -0.462242                 -0.584624   \n",
       "3393                  -0.405477                 -0.606294   \n",
       "4565                  -0.285554                 -0.617364   \n",
       "1291                  -0.468924                 -0.609551   \n",
       "1996                  -0.339807                 -0.590287   \n",
       "2695                  -0.384917                 -0.583945   \n",
       "1528                  -0.387363                 -0.599030   \n",
       "3861                  -0.441784                 -0.548615   \n",
       "1066                  -0.381971                 -0.593391   \n",
       "5031                  -0.380761                 -0.611077   \n",
       "1056                  -0.479376                 -0.604416   \n",
       "8076                  -0.345884                 -0.644488   \n",
       "2228                  -0.353594                 -0.574557   \n",
       "4097                  -0.323361                 -0.591987   \n",
       "\n",
       "       split2_test_neg_log_loss  ...  std_test_neg_log_loss  \\\n",
       "3745                  -0.706908  ...               0.140328   \n",
       "8073                  -0.693475  ...               0.131424   \n",
       "12870                 -0.718041  ...               0.212997   \n",
       "5850                  -0.721012  ...               0.142894   \n",
       "5968                  -0.681151  ...               0.193816   \n",
       "7839                  -0.705889  ...               0.190345   \n",
       "3042                  -0.601283  ...               0.103198   \n",
       "3393                  -0.640579  ...               0.122382   \n",
       "4565                  -0.692358  ...               0.186864   \n",
       "1291                  -0.642298  ...               0.088974   \n",
       "1996                  -0.642547  ...               0.159188   \n",
       "2695                  -0.703404  ...               0.130986   \n",
       "1528                  -0.646904  ...               0.131902   \n",
       "3861                  -0.659189  ...               0.118922   \n",
       "1066                  -0.679527  ...               0.137694   \n",
       "5031                  -0.694085  ...               0.141112   \n",
       "1056                  -0.640274  ...               0.085980   \n",
       "8076                  -0.770121  ...               0.147905   \n",
       "2228                  -0.712533  ...               0.151401   \n",
       "4097                  -0.696943  ...               0.165395   \n",
       "\n",
       "       rank_test_neg_log_loss  split0_test_accuracy  split1_test_accuracy  \\\n",
       "3745                        1              0.888889              0.777778   \n",
       "8073                        2              0.888889              0.666667   \n",
       "12870                       3              0.888889              0.666667   \n",
       "5850                        4              0.888889              0.777778   \n",
       "5968                        5              0.888889              0.666667   \n",
       "7839                        6              1.000000              0.666667   \n",
       "3042                        7              0.888889              0.777778   \n",
       "3393                        8              0.888889              0.777778   \n",
       "4565                        9              1.000000              0.555556   \n",
       "1291                       10              0.888889              0.777778   \n",
       "1996                       11              1.000000              0.777778   \n",
       "2695                       12              0.888889              0.666667   \n",
       "1528                       13              0.888889              0.666667   \n",
       "3861                       14              0.888889              0.888889   \n",
       "1066                       15              0.888889              0.666667   \n",
       "5031                       16              0.888889              0.777778   \n",
       "1056                       17              0.888889              0.777778   \n",
       "8076                       18              0.888889              0.666667   \n",
       "2228                       19              0.888889              0.666667   \n",
       "4097                       20              0.888889              0.777778   \n",
       "\n",
       "       split2_test_accuracy  split3_test_accuracy  split4_test_accuracy  \\\n",
       "3745               0.444444                 0.750                 0.250   \n",
       "8073               0.666667                 0.750                 0.250   \n",
       "12870              0.666667                 0.750                 0.625   \n",
       "5850               0.666667                 0.625                 0.375   \n",
       "5968               0.666667                 0.750                 0.250   \n",
       "7839               0.666667                 0.750                 0.375   \n",
       "3042               0.666667                 0.750                 0.250   \n",
       "3393               0.666667                 0.750                 0.250   \n",
       "4565               0.666667                 0.750                 0.375   \n",
       "1291               0.666667                 0.750                 0.250   \n",
       "1996               0.666667                 0.625                 0.250   \n",
       "2695               0.666667                 0.750                 0.250   \n",
       "1528               0.666667                 0.625                 0.250   \n",
       "3861               0.666667                 0.750                 0.250   \n",
       "1066               0.666667                 0.750                 0.250   \n",
       "5031               0.666667                 0.750                 0.250   \n",
       "1056               0.666667                 0.750                 0.250   \n",
       "8076               0.666667                 0.750                 0.750   \n",
       "2228               0.555556                 0.750                 0.375   \n",
       "4097               0.666667                 0.750                 0.250   \n",
       "\n",
       "       mean_test_accuracy  std_test_accuracy  rank_test_accuracy  \n",
       "3745             0.622222           0.237398               32209  \n",
       "8073             0.644444           0.213293               27848  \n",
       "12870            0.719444           0.093953                2464  \n",
       "5850             0.666667           0.172357               20042  \n",
       "5968             0.644444           0.213293               27848  \n",
       "7839             0.691667           0.200000                9553  \n",
       "3042             0.666667           0.220129               20042  \n",
       "3393             0.666667           0.220129               20042  \n",
       "4565             0.669444           0.207573               19652  \n",
       "1291             0.666667           0.220129               20042  \n",
       "1996             0.663889           0.244444               20242  \n",
       "2695             0.644444           0.213293               27848  \n",
       "1528             0.619444           0.206679               32524  \n",
       "3861             0.688889           0.235309                9631  \n",
       "1066             0.644444           0.213293               27848  \n",
       "5031             0.666667           0.220129               20042  \n",
       "1056             0.666667           0.220129               20042  \n",
       "8076             0.744444           0.081271                 208  \n",
       "2228             0.647222           0.174271               27288  \n",
       "4097             0.666667           0.220129               20042  \n",
       "\n",
       "[20 rows x 23 columns]"
      ]
     },
     "execution_count": 12,
     "metadata": {},
     "output_type": "execute_result"
    }
   ],
   "source": [
    "gsearch_result.head(20)"
   ]
  },
  {
   "cell_type": "code",
   "execution_count": 13,
   "metadata": {},
   "outputs": [
    {
     "data": {
      "text/plain": [
       "3745     0.622222\n",
       "8073     0.644444\n",
       "12870    0.719444\n",
       "5850     0.666667\n",
       "5968     0.644444\n",
       "           ...   \n",
       "29586    0.619444\n",
       "33249    0.650000\n",
       "34539    0.700000\n",
       "34500    0.630556\n",
       "34179    0.652778\n",
       "Name: mean_test_accuracy, Length: 35100, dtype: float64"
      ]
     },
     "execution_count": 13,
     "metadata": {},
     "output_type": "execute_result"
    }
   ],
   "source": [
    "gsearch_result['mean_test_accuracy']"
   ]
  },
  {
   "cell_type": "code",
   "execution_count": 14,
   "metadata": {},
   "outputs": [
    {
     "data": {
      "text/plain": [
       "3745     32209\n",
       "8073     27848\n",
       "12870     2464\n",
       "5850     20042\n",
       "5968     27848\n",
       "         ...  \n",
       "29586    32524\n",
       "33249    24445\n",
       "34539     3014\n",
       "34500    28522\n",
       "34179    21022\n",
       "Name: rank_test_accuracy, Length: 35100, dtype: int32"
      ]
     },
     "execution_count": 14,
     "metadata": {},
     "output_type": "execute_result"
    }
   ],
   "source": [
    "gsearch_result['rank_test_accuracy']"
   ]
  },
  {
   "cell_type": "code",
   "execution_count": 15,
   "metadata": {},
   "outputs": [
    {
     "data": {
      "text/plain": [
       "3745    -0.596133\n",
       "8073    -0.608179\n",
       "12870   -0.611247\n",
       "5850    -0.614984\n",
       "5968    -0.619903\n",
       "           ...   \n",
       "29586   -3.528528\n",
       "33249   -3.534978\n",
       "34539   -3.559429\n",
       "34500   -3.560073\n",
       "34179   -3.623068\n",
       "Name: mean_test_neg_log_loss, Length: 35100, dtype: float64"
      ]
     },
     "execution_count": 15,
     "metadata": {},
     "output_type": "execute_result"
    }
   ],
   "source": [
    "gsearch_result['mean_test_neg_log_loss']"
   ]
  }
 ],
 "metadata": {
  "kernelspec": {
   "display_name": "obj_det_clone",
   "language": "python",
   "name": "python3"
  },
  "language_info": {
   "codemirror_mode": {
    "name": "ipython",
    "version": 3
   },
   "file_extension": ".py",
   "mimetype": "text/x-python",
   "name": "python",
   "nbconvert_exporter": "python",
   "pygments_lexer": "ipython3",
   "version": "3.8.17"
  },
  "orig_nbformat": 4,
  "vscode": {
   "interpreter": {
    "hash": "7e782c4fbc36884394c9170738cdc99c03bcf42c881b0742568b6d97ce29ddb2"
   }
  }
 },
 "nbformat": 4,
 "nbformat_minor": 2
}
